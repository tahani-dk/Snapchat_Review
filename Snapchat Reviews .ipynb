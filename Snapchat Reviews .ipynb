{
 "cells": [
  {
   "cell_type": "code",
   "execution_count": 124,
   "id": "971ef58d",
   "metadata": {},
   "outputs": [],
   "source": [
    "import pandas as pd\n",
    "import numpy as np\n",
    "\n",
    "import seaborn as sns\n",
    "import matplotlib.pyplot as plt\n",
    "\n",
    "#for text pre-processing\n",
    "import re, string\n",
    "import nltk\n",
    "from nltk.tokenize import word_tokenize\n",
    "from nltk.corpus import stopwords\n",
    "from nltk.tokenize import word_tokenize\n",
    "from nltk.stem import PorterStemmer\n",
    "from nltk.corpus import wordnet\n",
    "from nltk.stem import WordNetLemmatizer\n",
    "\n",
    "from sklearn.decomposition import TruncatedSVD\n",
    "from sklearn.decomposition import NMF\n",
    "from collections import Counter,Counter,defaultdict\n",
    "\n",
    "from sklearn.feature_extraction.text import TfidfVectorizer\n",
    "from sklearn.feature_extraction.text import CountVectorizer\n",
    "\n",
    "from plotly.offline import plot\n",
    "import plotly.graph_objects as go\n",
    "import plotly.express as px\n",
    "\n",
    "import matplotlib as mpl\n",
    "import matplotlib.pyplot as plt\n",
    "%matplotlib inline\n",
    "from subprocess import check_output\n",
    "from wordcloud import WordCloud, STOPWORDS\n",
    "#import random\n",
    "import warnings\n",
    "warnings.filterwarnings(\"ignore\")"
   ]
  },
  {
   "cell_type": "code",
   "execution_count": 125,
   "id": "5c434180",
   "metadata": {},
   "outputs": [
    {
     "data": {
      "text/html": [
       "<div>\n",
       "<style scoped>\n",
       "    .dataframe tbody tr th:only-of-type {\n",
       "        vertical-align: middle;\n",
       "    }\n",
       "\n",
       "    .dataframe tbody tr th {\n",
       "        vertical-align: top;\n",
       "    }\n",
       "\n",
       "    .dataframe thead th {\n",
       "        text-align: right;\n",
       "    }\n",
       "</style>\n",
       "<table border=\"1\" class=\"dataframe\">\n",
       "  <thead>\n",
       "    <tr style=\"text-align: right;\">\n",
       "      <th></th>\n",
       "      <th>Unnamed: 0</th>\n",
       "      <th>userName</th>\n",
       "      <th>rating</th>\n",
       "      <th>review</th>\n",
       "      <th>isEdited</th>\n",
       "      <th>date</th>\n",
       "      <th>title</th>\n",
       "    </tr>\n",
       "  </thead>\n",
       "  <tbody>\n",
       "    <tr>\n",
       "      <th>0</th>\n",
       "      <td>0</td>\n",
       "      <td>Savvanananahhh</td>\n",
       "      <td>4</td>\n",
       "      <td>For the most part I quite enjoy Snapchat it’s ...</td>\n",
       "      <td>False</td>\n",
       "      <td>10/4/20 6:01</td>\n",
       "      <td>Performance issues</td>\n",
       "    </tr>\n",
       "    <tr>\n",
       "      <th>1</th>\n",
       "      <td>1</td>\n",
       "      <td>Idek 9-101112</td>\n",
       "      <td>3</td>\n",
       "      <td>I’m sorry to say it, but something is definite...</td>\n",
       "      <td>False</td>\n",
       "      <td>10/14/20 2:13</td>\n",
       "      <td>What happened?</td>\n",
       "    </tr>\n",
       "    <tr>\n",
       "      <th>2</th>\n",
       "      <td>2</td>\n",
       "      <td>William Quintana</td>\n",
       "      <td>3</td>\n",
       "      <td>Snapchat update ruined my story organization! ...</td>\n",
       "      <td>False</td>\n",
       "      <td>7/31/20 19:54</td>\n",
       "      <td>STORY ORGANIZATION RUINED!</td>\n",
       "    </tr>\n",
       "    <tr>\n",
       "      <th>3</th>\n",
       "      <td>3</td>\n",
       "      <td>an gonna be unkown😏</td>\n",
       "      <td>5</td>\n",
       "      <td>I really love the app for how long i have been...</td>\n",
       "      <td>False</td>\n",
       "      <td>4/22/21 14:10</td>\n",
       "      <td>The app is great</td>\n",
       "    </tr>\n",
       "    <tr>\n",
       "      <th>4</th>\n",
       "      <td>4</td>\n",
       "      <td>gzhangziqi</td>\n",
       "      <td>1</td>\n",
       "      <td>This is super frustrating. I was in the middle...</td>\n",
       "      <td>False</td>\n",
       "      <td>10/2/20 13:58</td>\n",
       "      <td>Locked me out, customer service not helping</td>\n",
       "    </tr>\n",
       "  </tbody>\n",
       "</table>\n",
       "</div>"
      ],
      "text/plain": [
       "   Unnamed: 0             userName  rating  \\\n",
       "0           0       Savvanananahhh       4   \n",
       "1           1        Idek 9-101112       3   \n",
       "2           2     William Quintana       3   \n",
       "3           3  an gonna be unkown😏       5   \n",
       "4           4           gzhangziqi       1   \n",
       "\n",
       "                                              review  isEdited           date  \\\n",
       "0  For the most part I quite enjoy Snapchat it’s ...     False   10/4/20 6:01   \n",
       "1  I’m sorry to say it, but something is definite...     False  10/14/20 2:13   \n",
       "2  Snapchat update ruined my story organization! ...     False  7/31/20 19:54   \n",
       "3  I really love the app for how long i have been...     False  4/22/21 14:10   \n",
       "4  This is super frustrating. I was in the middle...     False  10/2/20 13:58   \n",
       "\n",
       "                                         title  \n",
       "0                           Performance issues  \n",
       "1                               What happened?  \n",
       "2                   STORY ORGANIZATION RUINED!  \n",
       "3                             The app is great  \n",
       "4  Locked me out, customer service not helping  "
      ]
     },
     "execution_count": 125,
     "metadata": {},
     "output_type": "execute_result"
    }
   ],
   "source": [
    "data = pd.read_csv('Snapchat_reviews.csv')\n",
    "data.head()"
   ]
  },
  {
   "cell_type": "markdown",
   "id": "1a8e18a3",
   "metadata": {},
   "source": [
    "# Exploratory data analysis"
   ]
  },
  {
   "cell_type": "code",
   "execution_count": 126,
   "id": "2b6ee01d",
   "metadata": {},
   "outputs": [
    {
     "name": "stdout",
     "output_type": "stream",
     "text": [
      "<class 'pandas.core.frame.DataFrame'>\n",
      "RangeIndex: 9560 entries, 0 to 9559\n",
      "Data columns (total 7 columns):\n",
      " #   Column      Non-Null Count  Dtype \n",
      "---  ------      --------------  ----- \n",
      " 0   Unnamed: 0  9560 non-null   int64 \n",
      " 1   userName    9560 non-null   object\n",
      " 2   rating      9560 non-null   int64 \n",
      " 3   review      9560 non-null   object\n",
      " 4   isEdited    9560 non-null   bool  \n",
      " 5   date        9560 non-null   object\n",
      " 6   title       9560 non-null   object\n",
      "dtypes: bool(1), int64(2), object(4)\n",
      "memory usage: 457.6+ KB\n"
     ]
    }
   ],
   "source": [
    "data.info()"
   ]
  },
  {
   "cell_type": "code",
   "execution_count": 127,
   "id": "21c5c862",
   "metadata": {},
   "outputs": [
    {
     "data": {
      "text/plain": [
       "Unnamed: 0    0\n",
       "userName      0\n",
       "rating        0\n",
       "review        0\n",
       "isEdited      0\n",
       "date          0\n",
       "title         0\n",
       "dtype: int64"
      ]
     },
     "execution_count": 127,
     "metadata": {},
     "output_type": "execute_result"
    }
   ],
   "source": [
    "pd.isnull(data).sum()"
   ]
  },
  {
   "cell_type": "code",
   "execution_count": 128,
   "id": "003750f6",
   "metadata": {},
   "outputs": [
    {
     "data": {
      "text/plain": [
       "9560"
      ]
     },
     "execution_count": 128,
     "metadata": {},
     "output_type": "execute_result"
    }
   ],
   "source": [
    "# There are 9560 reviews in the dataset\n",
    "len(data)"
   ]
  },
  {
   "cell_type": "code",
   "execution_count": 129,
   "id": "be287de8",
   "metadata": {},
   "outputs": [
    {
     "data": {
      "text/plain": [
       "4    2346\n",
       "3    2171\n",
       "5    1932\n",
       "1    1879\n",
       "2    1232\n",
       "Name: rating, dtype: int64"
      ]
     },
     "execution_count": 129,
     "metadata": {},
     "output_type": "execute_result"
    }
   ],
   "source": [
    "# While most reviewers leave a 5 star review, there are also a good portion leaving 1 star reviews\n",
    "data.rating.value_counts()"
   ]
  },
  {
   "cell_type": "code",
   "execution_count": 130,
   "id": "e5c1436b",
   "metadata": {},
   "outputs": [
    {
     "data": {
      "text/html": [
       "<div>\n",
       "<style scoped>\n",
       "    .dataframe tbody tr th:only-of-type {\n",
       "        vertical-align: middle;\n",
       "    }\n",
       "\n",
       "    .dataframe tbody tr th {\n",
       "        vertical-align: top;\n",
       "    }\n",
       "\n",
       "    .dataframe thead th {\n",
       "        text-align: right;\n",
       "    }\n",
       "</style>\n",
       "<table border=\"1\" class=\"dataframe\">\n",
       "  <thead>\n",
       "    <tr style=\"text-align: right;\">\n",
       "      <th></th>\n",
       "      <th>Unnamed: 0</th>\n",
       "      <th>userName</th>\n",
       "      <th>rating</th>\n",
       "      <th>review</th>\n",
       "      <th>isEdited</th>\n",
       "      <th>date</th>\n",
       "      <th>title</th>\n",
       "    </tr>\n",
       "  </thead>\n",
       "  <tbody>\n",
       "    <tr>\n",
       "      <th>0</th>\n",
       "      <td>0</td>\n",
       "      <td>Savvanananahhh</td>\n",
       "      <td>4</td>\n",
       "      <td>For the most part I quite enjoy Snapchat it’s ...</td>\n",
       "      <td>False</td>\n",
       "      <td>10/4/20 6:01</td>\n",
       "      <td>Performance issues</td>\n",
       "    </tr>\n",
       "    <tr>\n",
       "      <th>3</th>\n",
       "      <td>3</td>\n",
       "      <td>an gonna be unkown😏</td>\n",
       "      <td>5</td>\n",
       "      <td>I really love the app for how long i have been...</td>\n",
       "      <td>False</td>\n",
       "      <td>4/22/21 14:10</td>\n",
       "      <td>The app is great</td>\n",
       "    </tr>\n",
       "    <tr>\n",
       "      <th>4</th>\n",
       "      <td>4</td>\n",
       "      <td>gzhangziqi</td>\n",
       "      <td>1</td>\n",
       "      <td>This is super frustrating. I was in the middle...</td>\n",
       "      <td>False</td>\n",
       "      <td>10/2/20 13:58</td>\n",
       "      <td>Locked me out, customer service not helping</td>\n",
       "    </tr>\n",
       "    <tr>\n",
       "      <th>5</th>\n",
       "      <td>5</td>\n",
       "      <td>jehducfkdkdk123</td>\n",
       "      <td>1</td>\n",
       "      <td>I am very unsatisfied with the new update and ...</td>\n",
       "      <td>False</td>\n",
       "      <td>9/17/20 2:59</td>\n",
       "      <td>Opinion on new update 👎🏽🤮</td>\n",
       "    </tr>\n",
       "    <tr>\n",
       "      <th>6</th>\n",
       "      <td>6</td>\n",
       "      <td>Cakegirl300</td>\n",
       "      <td>4</td>\n",
       "      <td>My Snapchat, along with many others, has sudde...</td>\n",
       "      <td>False</td>\n",
       "      <td>7/11/20 16:23</td>\n",
       "      <td>Great app and all but FIX THIS</td>\n",
       "    </tr>\n",
       "    <tr>\n",
       "      <th>...</th>\n",
       "      <td>...</td>\n",
       "      <td>...</td>\n",
       "      <td>...</td>\n",
       "      <td>...</td>\n",
       "      <td>...</td>\n",
       "      <td>...</td>\n",
       "      <td>...</td>\n",
       "    </tr>\n",
       "    <tr>\n",
       "      <th>9554</th>\n",
       "      <td>9554</td>\n",
       "      <td>EpicRicky</td>\n",
       "      <td>1</td>\n",
       "      <td>If I can give his crappy app a 0 star I would....</td>\n",
       "      <td>False</td>\n",
       "      <td>6/29/19 18:15</td>\n",
       "      <td>DONT GET THIS CRAPPY APP</td>\n",
       "    </tr>\n",
       "    <tr>\n",
       "      <th>9555</th>\n",
       "      <td>9555</td>\n",
       "      <td>geekygirl17</td>\n",
       "      <td>1</td>\n",
       "      <td>I used to love using Snapchat and now I hardly...</td>\n",
       "      <td>False</td>\n",
       "      <td>6/24/19 0:58</td>\n",
       "      <td>Major issue...not that it will get fixed</td>\n",
       "    </tr>\n",
       "    <tr>\n",
       "      <th>9556</th>\n",
       "      <td>9556</td>\n",
       "      <td>changemaker kkdd</td>\n",
       "      <td>2</td>\n",
       "      <td>Well, I did deleted it because there was some ...</td>\n",
       "      <td>False</td>\n",
       "      <td>6/23/19 13:42</td>\n",
       "      <td>I got then deleted it.</td>\n",
       "    </tr>\n",
       "    <tr>\n",
       "      <th>9557</th>\n",
       "      <td>9557</td>\n",
       "      <td>teekay2much</td>\n",
       "      <td>4</td>\n",
       "      <td>Every time I upload a photo or video to my sto...</td>\n",
       "      <td>False</td>\n",
       "      <td>6/3/19 3:35</td>\n",
       "      <td>Story problem</td>\n",
       "    </tr>\n",
       "    <tr>\n",
       "      <th>9558</th>\n",
       "      <td>9558</td>\n",
       "      <td>whoratheexplora</td>\n",
       "      <td>4</td>\n",
       "      <td>Love this app, but since he update I can’t upl...</td>\n",
       "      <td>False</td>\n",
       "      <td>6/3/19 3:26</td>\n",
       "      <td>Bugs</td>\n",
       "    </tr>\n",
       "  </tbody>\n",
       "</table>\n",
       "<p>7389 rows × 7 columns</p>\n",
       "</div>"
      ],
      "text/plain": [
       "      Unnamed: 0             userName  rating  \\\n",
       "0              0       Savvanananahhh       4   \n",
       "3              3  an gonna be unkown😏       5   \n",
       "4              4           gzhangziqi       1   \n",
       "5              5      jehducfkdkdk123       1   \n",
       "6              6          Cakegirl300       4   \n",
       "...          ...                  ...     ...   \n",
       "9554        9554            EpicRicky       1   \n",
       "9555        9555          geekygirl17       1   \n",
       "9556        9556     changemaker kkdd       2   \n",
       "9557        9557          teekay2much       4   \n",
       "9558        9558      whoratheexplora       4   \n",
       "\n",
       "                                                 review  isEdited  \\\n",
       "0     For the most part I quite enjoy Snapchat it’s ...     False   \n",
       "3     I really love the app for how long i have been...     False   \n",
       "4     This is super frustrating. I was in the middle...     False   \n",
       "5     I am very unsatisfied with the new update and ...     False   \n",
       "6     My Snapchat, along with many others, has sudde...     False   \n",
       "...                                                 ...       ...   \n",
       "9554  If I can give his crappy app a 0 star I would....     False   \n",
       "9555  I used to love using Snapchat and now I hardly...     False   \n",
       "9556  Well, I did deleted it because there was some ...     False   \n",
       "9557  Every time I upload a photo or video to my sto...     False   \n",
       "9558  Love this app, but since he update I can’t upl...     False   \n",
       "\n",
       "               date                                        title  \n",
       "0      10/4/20 6:01                           Performance issues  \n",
       "3     4/22/21 14:10                             The app is great  \n",
       "4     10/2/20 13:58  Locked me out, customer service not helping  \n",
       "5      9/17/20 2:59                    Opinion on new update 👎🏽🤮  \n",
       "6     7/11/20 16:23               Great app and all but FIX THIS  \n",
       "...             ...                                          ...  \n",
       "9554  6/29/19 18:15                     DONT GET THIS CRAPPY APP  \n",
       "9555   6/24/19 0:58     Major issue...not that it will get fixed  \n",
       "9556  6/23/19 13:42                       I got then deleted it.  \n",
       "9557    6/3/19 3:35                                Story problem  \n",
       "9558    6/3/19 3:26                                         Bugs  \n",
       "\n",
       "[7389 rows x 7 columns]"
      ]
     },
     "execution_count": 130,
     "metadata": {},
     "output_type": "execute_result"
    }
   ],
   "source": [
    "# Remove 3 rating reviews\n",
    "data = data[data.rating!=3]\n",
    "data"
   ]
  },
  {
   "cell_type": "code",
   "execution_count": 131,
   "id": "279dd3b1",
   "metadata": {},
   "outputs": [
    {
     "data": {
      "text/html": [
       "<div>\n",
       "<style scoped>\n",
       "    .dataframe tbody tr th:only-of-type {\n",
       "        vertical-align: middle;\n",
       "    }\n",
       "\n",
       "    .dataframe tbody tr th {\n",
       "        vertical-align: top;\n",
       "    }\n",
       "\n",
       "    .dataframe thead th {\n",
       "        text-align: right;\n",
       "    }\n",
       "</style>\n",
       "<table border=\"1\" class=\"dataframe\">\n",
       "  <thead>\n",
       "    <tr style=\"text-align: right;\">\n",
       "      <th></th>\n",
       "      <th>sentiment</th>\n",
       "      <th>review</th>\n",
       "    </tr>\n",
       "  </thead>\n",
       "  <tbody>\n",
       "    <tr>\n",
       "      <th>0</th>\n",
       "      <td>good</td>\n",
       "      <td>For the most part I quite enjoy Snapchat it’s ...</td>\n",
       "    </tr>\n",
       "    <tr>\n",
       "      <th>3</th>\n",
       "      <td>good</td>\n",
       "      <td>I really love the app for how long i have been...</td>\n",
       "    </tr>\n",
       "    <tr>\n",
       "      <th>4</th>\n",
       "      <td>bad</td>\n",
       "      <td>This is super frustrating. I was in the middle...</td>\n",
       "    </tr>\n",
       "    <tr>\n",
       "      <th>5</th>\n",
       "      <td>bad</td>\n",
       "      <td>I am very unsatisfied with the new update and ...</td>\n",
       "    </tr>\n",
       "    <tr>\n",
       "      <th>6</th>\n",
       "      <td>good</td>\n",
       "      <td>My Snapchat, along with many others, has sudde...</td>\n",
       "    </tr>\n",
       "  </tbody>\n",
       "</table>\n",
       "</div>"
      ],
      "text/plain": [
       "  sentiment                                             review\n",
       "0      good  For the most part I quite enjoy Snapchat it’s ...\n",
       "3      good  I really love the app for how long i have been...\n",
       "4       bad  This is super frustrating. I was in the middle...\n",
       "5       bad  I am very unsatisfied with the new update and ...\n",
       "6      good  My Snapchat, along with many others, has sudde..."
      ]
     },
     "execution_count": 131,
     "metadata": {},
     "output_type": "execute_result"
    }
   ],
   "source": [
    "# Set 4/5 rating reviews to positive, the rest to negative\n",
    "data['sentiment'] = np.where(data['rating'] >= 4, 'good', 'bad')\n",
    "\n",
    "# Include only the sentiment and reviews columns\n",
    "data = data[['sentiment', 'review']]\n",
    "data.head()"
   ]
  },
  {
   "cell_type": "code",
   "execution_count": 132,
   "id": "249a0ef2",
   "metadata": {},
   "outputs": [
    {
     "data": {
      "text/plain": [
       "7389"
      ]
     },
     "execution_count": 132,
     "metadata": {},
     "output_type": "execute_result"
    }
   ],
   "source": [
    "# Check the length of the new dataset\n",
    "len(data)"
   ]
  },
  {
   "cell_type": "code",
   "execution_count": 133,
   "id": "47f10bd7",
   "metadata": {},
   "outputs": [
    {
     "data": {
      "text/plain": [
       "good    0.578969\n",
       "bad     0.421031\n",
       "Name: sentiment, dtype: float64"
      ]
     },
     "execution_count": 133,
     "metadata": {},
     "output_type": "execute_result"
    }
   ],
   "source": [
    "# Note that the dataset has mostly positive reviews\n",
    "data.sentiment.value_counts(normalize=True)"
   ]
  },
  {
   "cell_type": "code",
   "execution_count": 134,
   "id": "61b9a076",
   "metadata": {},
   "outputs": [
    {
     "data": {
      "text/plain": [
       "'For the most part I quite enjoy Snapchat it’s probably the most used app I have on my phone because it’s really convenient for messaging people especially when my texting doesn’t work based on various locations, like text messages don’t go through when I’m at school buildings but Snapchat messages will. I think it’s quite useful and it’s very fun to use, however lately I’ve been experiencing some problems with loading times. For the past maybe two months it’s taking a good 10 seconds to load in a text that I got, and another three to save that text. I’ve been on various Wi-Fi connections as well as using my data and no matter the change between Wi-Fi or data the problem does not get fixed so I know that’s not the issue. Recently I found that deleting some of the things that take up storage on my phone help with the performance however this time that has not worked. I do think that this is some thing Snapchat needs to look into as a problem since it is one of the main communication apps. Have the time I to get annoyed with it taking so long to load that I just use text message instead of Snapchat but it’s just not the same and I wish I didn’t have to resort to it. I hope Snapchat fixes this problem soon.'"
      ]
     },
     "execution_count": 134,
     "metadata": {},
     "output_type": "execute_result"
    }
   ],
   "source": [
    "data[\"review\"][0]"
   ]
  },
  {
   "cell_type": "markdown",
   "id": "f0570109",
   "metadata": {},
   "source": [
    "# Preprocess the text\n"
   ]
  },
  {
   "cell_type": "code",
   "execution_count": 135,
   "id": "e19baf34",
   "metadata": {},
   "outputs": [],
   "source": [
    "#convert to lowercase and remove punctuations and characters and then strip\n",
    "def preprocess(text):\n",
    "    text = text.lower() #lowercase text\n",
    "    text=text.strip()  #get rid of leading/trailing whitespace \n",
    "    text=re.compile('<.*?>').sub('', text) #Remove HTML tags/markups\n",
    "    text = re.compile('[%s]' % re.escape(string.punctuation)).sub(' ', text)  #Replace punctuation with space. Careful since punctuation can sometime be useful\n",
    "    text = re.sub('\\s+', ' ', text)  #Remove extra space and tabs\n",
    "    text = re.sub(r'\\[[0-9]*\\]',' ',text) #[0-9] matches any digit (0 to 10000...)\n",
    "    text=re.sub(r'[^\\w\\s]', '', str(text).lower().strip())\n",
    "    text = re.sub(r'\\d',' ',text) #matches any digit from 0 to 100000..., \\D matches non-digits\n",
    "    text = re.sub(r'\\s+',' ',text) #\\s matches any whitespace, \\s+ matches multiple whitespace, \\S matches non-whitespace \n",
    "    \n",
    "    return text\n",
    "\n",
    "\n",
    "from nltk.corpus import stopwords\n",
    "stop_words = stopwords.words('english')\n",
    "def stopword(string):\n",
    "    stop_words.extend(['ive', 'cant', 'im', 'dont', 'doesnt','want','u','ill','wont','friend','thing',' would','one','even','snapchat','app','s','snap','people'])\n",
    "    a= [i for i in string.split() if i not in stop_words]\n",
    "    return ' '.join(a)\n",
    "\n",
    "\n",
    "lemma = WordNetLemmatizer()\n",
    "def lemmatizer(string):\n",
    "    a=[lemma.lemmatize(i) for i in word_tokenize(string) ]\n",
    "    return \" \".join(a)\n",
    "\n",
    "stem = PorterStemmer()\n",
    "def stemmer(string):\n",
    "    a=[stem.stem(i) for i in word_tokenize(string) ]\n",
    "    return \" \".join(a)"
   ]
  },
  {
   "cell_type": "code",
   "execution_count": 136,
   "id": "3c304802",
   "metadata": {},
   "outputs": [],
   "source": [
    "data[\"lemma\"] = data[\"review\"].apply(lambda x: lemmatizer(stopword(preprocess(x))))"
   ]
  },
  {
   "cell_type": "code",
   "execution_count": 137,
   "id": "449efd41",
   "metadata": {},
   "outputs": [
    {
     "data": {
      "text/html": [
       "<div>\n",
       "<style scoped>\n",
       "    .dataframe tbody tr th:only-of-type {\n",
       "        vertical-align: middle;\n",
       "    }\n",
       "\n",
       "    .dataframe tbody tr th {\n",
       "        vertical-align: top;\n",
       "    }\n",
       "\n",
       "    .dataframe thead th {\n",
       "        text-align: right;\n",
       "    }\n",
       "</style>\n",
       "<table border=\"1\" class=\"dataframe\">\n",
       "  <thead>\n",
       "    <tr style=\"text-align: right;\">\n",
       "      <th></th>\n",
       "      <th>sentiment</th>\n",
       "      <th>review</th>\n",
       "      <th>lemma</th>\n",
       "    </tr>\n",
       "  </thead>\n",
       "  <tbody>\n",
       "    <tr>\n",
       "      <th>0</th>\n",
       "      <td>good</td>\n",
       "      <td>For the most part I quite enjoy Snapchat it’s ...</td>\n",
       "      <td>part quite enjoy probably used phone really co...</td>\n",
       "    </tr>\n",
       "    <tr>\n",
       "      <th>3</th>\n",
       "      <td>good</td>\n",
       "      <td>I really love the app for how long i have been...</td>\n",
       "      <td>really love long using say difficulty also req...</td>\n",
       "    </tr>\n",
       "    <tr>\n",
       "      <th>4</th>\n",
       "      <td>bad</td>\n",
       "      <td>This is super frustrating. I was in the middle...</td>\n",
       "      <td>super frustrating middle sending logged tried ...</td>\n",
       "    </tr>\n",
       "    <tr>\n",
       "      <th>5</th>\n",
       "      <td>bad</td>\n",
       "      <td>I am very unsatisfied with the new update and ...</td>\n",
       "      <td>unsatisfied new update pretty sure others say ...</td>\n",
       "    </tr>\n",
       "    <tr>\n",
       "      <th>6</th>\n",
       "      <td>good</td>\n",
       "      <td>My Snapchat, along with many others, has sudde...</td>\n",
       "      <td>along many others suddenly started malfunction...</td>\n",
       "    </tr>\n",
       "    <tr>\n",
       "      <th>7</th>\n",
       "      <td>bad</td>\n",
       "      <td>My snapchat got hacked about a month ago, whic...</td>\n",
       "      <td>got hacked month ago know isnt entirely fault ...</td>\n",
       "    </tr>\n",
       "    <tr>\n",
       "      <th>8</th>\n",
       "      <td>bad</td>\n",
       "      <td>My first account that was locked was an accoun...</td>\n",
       "      <td>first account locked account since elementary ...</td>\n",
       "    </tr>\n",
       "    <tr>\n",
       "      <th>9</th>\n",
       "      <td>bad</td>\n",
       "      <td>I have had my snap account for a while but the...</td>\n",
       "      <td>account wanted create new lasted three day new...</td>\n",
       "    </tr>\n",
       "    <tr>\n",
       "      <th>10</th>\n",
       "      <td>good</td>\n",
       "      <td>So I recently just got the current update of S...</td>\n",
       "      <td>recently got current update well many know nec...</td>\n",
       "    </tr>\n",
       "    <tr>\n",
       "      <th>11</th>\n",
       "      <td>good</td>\n",
       "      <td>I can say confidently that me and all of my fr...</td>\n",
       "      <td>say confidently friend spend time brought many...</td>\n",
       "    </tr>\n",
       "    <tr>\n",
       "      <th>12</th>\n",
       "      <td>bad</td>\n",
       "      <td>the new snap update is horrible. i hate how yo...</td>\n",
       "      <td>new update horrible hate swipe see map also io...</td>\n",
       "    </tr>\n",
       "    <tr>\n",
       "      <th>14</th>\n",
       "      <td>bad</td>\n",
       "      <td>I’ll chat highest permanently locked Snapchat ...</td>\n",
       "      <td>chat highest permanently locked account along ...</td>\n",
       "    </tr>\n",
       "    <tr>\n",
       "      <th>15</th>\n",
       "      <td>bad</td>\n",
       "      <td>i have a serious bone to pick with yall ever s...</td>\n",
       "      <td>serious bone pick yall ever since started allo...</td>\n",
       "    </tr>\n",
       "    <tr>\n",
       "      <th>16</th>\n",
       "      <td>good</td>\n",
       "      <td>This app is amazing and is so safe for our kid...</td>\n",
       "      <td>amazing safe kid mother let kid safe first dow...</td>\n",
       "    </tr>\n",
       "    <tr>\n",
       "      <th>19</th>\n",
       "      <td>bad</td>\n",
       "      <td>I was on snap and randomly it stopped working,...</td>\n",
       "      <td>randomly stopped working per usual closed went...</td>\n",
       "    </tr>\n",
       "    <tr>\n",
       "      <th>20</th>\n",
       "      <td>good</td>\n",
       "      <td>I’ve had Snapchat for several years now, and i...</td>\n",
       "      <td>several year always favorite social medium pla...</td>\n",
       "    </tr>\n",
       "    <tr>\n",
       "      <th>21</th>\n",
       "      <td>bad</td>\n",
       "      <td>I love the app and in my opinion it’s better t...</td>\n",
       "      <td>love opinion better tik tok something crucial ...</td>\n",
       "    </tr>\n",
       "    <tr>\n",
       "      <th>22</th>\n",
       "      <td>bad</td>\n",
       "      <td>First of all i wanna talk about snapchats cust...</td>\n",
       "      <td>first wan na talk snapchats customer service i...</td>\n",
       "    </tr>\n",
       "    <tr>\n",
       "      <th>23</th>\n",
       "      <td>good</td>\n",
       "      <td>I have been using snapchat since 2013. In the ...</td>\n",
       "      <td>using since past six year seen development qua...</td>\n",
       "    </tr>\n",
       "    <tr>\n",
       "      <th>24</th>\n",
       "      <td>good</td>\n",
       "      <td>So I was on my snapchat and all of a sudden it...</td>\n",
       "      <td>sudden stopped working completely shut phone o...</td>\n",
       "    </tr>\n",
       "  </tbody>\n",
       "</table>\n",
       "</div>"
      ],
      "text/plain": [
       "   sentiment                                             review  \\\n",
       "0       good  For the most part I quite enjoy Snapchat it’s ...   \n",
       "3       good  I really love the app for how long i have been...   \n",
       "4        bad  This is super frustrating. I was in the middle...   \n",
       "5        bad  I am very unsatisfied with the new update and ...   \n",
       "6       good  My Snapchat, along with many others, has sudde...   \n",
       "7        bad  My snapchat got hacked about a month ago, whic...   \n",
       "8        bad  My first account that was locked was an accoun...   \n",
       "9        bad  I have had my snap account for a while but the...   \n",
       "10      good  So I recently just got the current update of S...   \n",
       "11      good  I can say confidently that me and all of my fr...   \n",
       "12       bad  the new snap update is horrible. i hate how yo...   \n",
       "14       bad  I’ll chat highest permanently locked Snapchat ...   \n",
       "15       bad  i have a serious bone to pick with yall ever s...   \n",
       "16      good  This app is amazing and is so safe for our kid...   \n",
       "19       bad  I was on snap and randomly it stopped working,...   \n",
       "20      good  I’ve had Snapchat for several years now, and i...   \n",
       "21       bad  I love the app and in my opinion it’s better t...   \n",
       "22       bad  First of all i wanna talk about snapchats cust...   \n",
       "23      good  I have been using snapchat since 2013. In the ...   \n",
       "24      good  So I was on my snapchat and all of a sudden it...   \n",
       "\n",
       "                                                lemma  \n",
       "0   part quite enjoy probably used phone really co...  \n",
       "3   really love long using say difficulty also req...  \n",
       "4   super frustrating middle sending logged tried ...  \n",
       "5   unsatisfied new update pretty sure others say ...  \n",
       "6   along many others suddenly started malfunction...  \n",
       "7   got hacked month ago know isnt entirely fault ...  \n",
       "8   first account locked account since elementary ...  \n",
       "9   account wanted create new lasted three day new...  \n",
       "10  recently got current update well many know nec...  \n",
       "11  say confidently friend spend time brought many...  \n",
       "12  new update horrible hate swipe see map also io...  \n",
       "14  chat highest permanently locked account along ...  \n",
       "15  serious bone pick yall ever since started allo...  \n",
       "16  amazing safe kid mother let kid safe first dow...  \n",
       "19  randomly stopped working per usual closed went...  \n",
       "20  several year always favorite social medium pla...  \n",
       "21  love opinion better tik tok something crucial ...  \n",
       "22  first wan na talk snapchats customer service i...  \n",
       "23  using since past six year seen development qua...  \n",
       "24  sudden stopped working completely shut phone o...  "
      ]
     },
     "execution_count": 137,
     "metadata": {},
     "output_type": "execute_result"
    }
   ],
   "source": [
    "data.head(20)"
   ]
  },
  {
   "cell_type": "code",
   "execution_count": 138,
   "id": "568d3d57",
   "metadata": {},
   "outputs": [],
   "source": [
    " test = data[data['lemma'] != data['review']]"
   ]
  },
  {
   "cell_type": "code",
   "execution_count": 139,
   "id": "8e6179ea",
   "metadata": {},
   "outputs": [
    {
     "data": {
      "text/plain": [
       "'part quite enjoy probably used phone really convenient messaging especially texting work based various location like text message go school building message think quite useful fun use however lately experiencing problem loading time past maybe two month taking good second load text got another three save text various wi fi connection well using data matter change wi fi data problem get fixed know thats issue recently found deleting thing take storage phone help performance however time worked think need look problem since main communication apps time get annoyed taking long load use text message instead wish didnt resort hope fix problem soon'"
      ]
     },
     "execution_count": 139,
     "metadata": {},
     "output_type": "execute_result"
    }
   ],
   "source": [
    "test.lemma[0]"
   ]
  },
  {
   "cell_type": "code",
   "execution_count": 140,
   "id": "70e53600",
   "metadata": {},
   "outputs": [
    {
     "data": {
      "text/plain": [
       "'For the most part I quite enjoy Snapchat it’s probably the most used app I have on my phone because it’s really convenient for messaging people especially when my texting doesn’t work based on various locations, like text messages don’t go through when I’m at school buildings but Snapchat messages will. I think it’s quite useful and it’s very fun to use, however lately I’ve been experiencing some problems with loading times. For the past maybe two months it’s taking a good 10 seconds to load in a text that I got, and another three to save that text. I’ve been on various Wi-Fi connections as well as using my data and no matter the change between Wi-Fi or data the problem does not get fixed so I know that’s not the issue. Recently I found that deleting some of the things that take up storage on my phone help with the performance however this time that has not worked. I do think that this is some thing Snapchat needs to look into as a problem since it is one of the main communication apps. Have the time I to get annoyed with it taking so long to load that I just use text message instead of Snapchat but it’s just not the same and I wish I didn’t have to resort to it. I hope Snapchat fixes this problem soon.'"
      ]
     },
     "execution_count": 140,
     "metadata": {},
     "output_type": "execute_result"
    }
   ],
   "source": [
    "test.review[0]"
   ]
  },
  {
   "cell_type": "code",
   "execution_count": 141,
   "id": "cfb96209",
   "metadata": {},
   "outputs": [
    {
     "data": {
      "text/plain": [
       "<AxesSubplot:xlabel='sentiment', ylabel='count'>"
      ]
     },
     "execution_count": 141,
     "metadata": {},
     "output_type": "execute_result"
    },
    {
     "data": {
      "image/png": "[encoded data removed]",
      "text/plain": [
       "<Figure size 432x288 with 1 Axes>"
      ]
     },
     "metadata": {
      "needs_background": "light"
     },
     "output_type": "display_data"
    }
   ],
   "source": [
    "sns.countplot(x='sentiment',data=data)"
   ]
  },
  {
   "cell_type": "code",
   "execution_count": 142,
   "id": "45c91589",
   "metadata": {},
   "outputs": [
    {
     "data": {
      "text/html": [
       "<div>\n",
       "<style scoped>\n",
       "    .dataframe tbody tr th:only-of-type {\n",
       "        vertical-align: middle;\n",
       "    }\n",
       "\n",
       "    .dataframe tbody tr th {\n",
       "        vertical-align: top;\n",
       "    }\n",
       "\n",
       "    .dataframe thead th {\n",
       "        text-align: right;\n",
       "    }\n",
       "</style>\n",
       "<table border=\"1\" class=\"dataframe\">\n",
       "  <thead>\n",
       "    <tr style=\"text-align: right;\">\n",
       "      <th></th>\n",
       "      <th>sentiment</th>\n",
       "      <th>review</th>\n",
       "      <th>lemma</th>\n",
       "    </tr>\n",
       "  </thead>\n",
       "  <tbody>\n",
       "    <tr>\n",
       "      <th>0</th>\n",
       "      <td>good</td>\n",
       "      <td>For the most part I quite enjoy Snapchat it’s ...</td>\n",
       "      <td>part quite enjoy probably used phone really co...</td>\n",
       "    </tr>\n",
       "    <tr>\n",
       "      <th>3</th>\n",
       "      <td>good</td>\n",
       "      <td>I really love the app for how long i have been...</td>\n",
       "      <td>really love long using say difficulty also req...</td>\n",
       "    </tr>\n",
       "    <tr>\n",
       "      <th>6</th>\n",
       "      <td>good</td>\n",
       "      <td>My Snapchat, along with many others, has sudde...</td>\n",
       "      <td>along many others suddenly started malfunction...</td>\n",
       "    </tr>\n",
       "    <tr>\n",
       "      <th>10</th>\n",
       "      <td>good</td>\n",
       "      <td>So I recently just got the current update of S...</td>\n",
       "      <td>recently got current update well many know nec...</td>\n",
       "    </tr>\n",
       "    <tr>\n",
       "      <th>11</th>\n",
       "      <td>good</td>\n",
       "      <td>I can say confidently that me and all of my fr...</td>\n",
       "      <td>say confidently friend spend time brought many...</td>\n",
       "    </tr>\n",
       "    <tr>\n",
       "      <th>...</th>\n",
       "      <td>...</td>\n",
       "      <td>...</td>\n",
       "      <td>...</td>\n",
       "    </tr>\n",
       "    <tr>\n",
       "      <th>9551</th>\n",
       "      <td>good</td>\n",
       "      <td>I love snapchat so much. The update where the ...</td>\n",
       "      <td>love much update chat option way people story ...</td>\n",
       "    </tr>\n",
       "    <tr>\n",
       "      <th>9552</th>\n",
       "      <td>good</td>\n",
       "      <td>Right now, other than a couple bugs here and t...</td>\n",
       "      <td>right couple bug good part would love got chan...</td>\n",
       "    </tr>\n",
       "    <tr>\n",
       "      <th>9553</th>\n",
       "      <td>good</td>\n",
       "      <td>Like this app is great and all but the stories...</td>\n",
       "      <td>like great story friend post show already seen...</td>\n",
       "    </tr>\n",
       "    <tr>\n",
       "      <th>9557</th>\n",
       "      <td>good</td>\n",
       "      <td>Every time I upload a photo or video to my sto...</td>\n",
       "      <td>every time upload photo video story upload lat...</td>\n",
       "    </tr>\n",
       "    <tr>\n",
       "      <th>9558</th>\n",
       "      <td>good</td>\n",
       "      <td>Love this app, but since he update I can’t upl...</td>\n",
       "      <td>love since update upload snap story get notifi...</td>\n",
       "    </tr>\n",
       "  </tbody>\n",
       "</table>\n",
       "<p>4278 rows × 3 columns</p>\n",
       "</div>"
      ],
      "text/plain": [
       "     sentiment                                             review  \\\n",
       "0         good  For the most part I quite enjoy Snapchat it’s ...   \n",
       "3         good  I really love the app for how long i have been...   \n",
       "6         good  My Snapchat, along with many others, has sudde...   \n",
       "10        good  So I recently just got the current update of S...   \n",
       "11        good  I can say confidently that me and all of my fr...   \n",
       "...        ...                                                ...   \n",
       "9551      good  I love snapchat so much. The update where the ...   \n",
       "9552      good  Right now, other than a couple bugs here and t...   \n",
       "9553      good  Like this app is great and all but the stories...   \n",
       "9557      good  Every time I upload a photo or video to my sto...   \n",
       "9558      good  Love this app, but since he update I can’t upl...   \n",
       "\n",
       "                                                  lemma  \n",
       "0     part quite enjoy probably used phone really co...  \n",
       "3     really love long using say difficulty also req...  \n",
       "6     along many others suddenly started malfunction...  \n",
       "10    recently got current update well many know nec...  \n",
       "11    say confidently friend spend time brought many...  \n",
       "...                                                 ...  \n",
       "9551  love much update chat option way people story ...  \n",
       "9552  right couple bug good part would love got chan...  \n",
       "9553  like great story friend post show already seen...  \n",
       "9557  every time upload photo video story upload lat...  \n",
       "9558  love since update upload snap story get notifi...  \n",
       "\n",
       "[4278 rows x 3 columns]"
      ]
     },
     "execution_count": 142,
     "metadata": {},
     "output_type": "execute_result"
    }
   ],
   "source": [
    "positive_reviews = data.loc[(data['sentiment'] == 'good')]\n",
    "positive_reviews"
   ]
  },
  {
   "cell_type": "code",
   "execution_count": 143,
   "id": "fc42e25e",
   "metadata": {},
   "outputs": [
    {
     "data": {
      "text/html": [
       "<div>\n",
       "<style scoped>\n",
       "    .dataframe tbody tr th:only-of-type {\n",
       "        vertical-align: middle;\n",
       "    }\n",
       "\n",
       "    .dataframe tbody tr th {\n",
       "        vertical-align: top;\n",
       "    }\n",
       "\n",
       "    .dataframe thead th {\n",
       "        text-align: right;\n",
       "    }\n",
       "</style>\n",
       "<table border=\"1\" class=\"dataframe\">\n",
       "  <thead>\n",
       "    <tr style=\"text-align: right;\">\n",
       "      <th></th>\n",
       "      <th>sentiment</th>\n",
       "      <th>review</th>\n",
       "      <th>lemma</th>\n",
       "    </tr>\n",
       "  </thead>\n",
       "  <tbody>\n",
       "    <tr>\n",
       "      <th>4</th>\n",
       "      <td>bad</td>\n",
       "      <td>This is super frustrating. I was in the middle...</td>\n",
       "      <td>super frustrating middle sending logged tried ...</td>\n",
       "    </tr>\n",
       "    <tr>\n",
       "      <th>5</th>\n",
       "      <td>bad</td>\n",
       "      <td>I am very unsatisfied with the new update and ...</td>\n",
       "      <td>unsatisfied new update pretty sure others say ...</td>\n",
       "    </tr>\n",
       "    <tr>\n",
       "      <th>7</th>\n",
       "      <td>bad</td>\n",
       "      <td>My snapchat got hacked about a month ago, whic...</td>\n",
       "      <td>got hacked month ago know isnt entirely fault ...</td>\n",
       "    </tr>\n",
       "    <tr>\n",
       "      <th>8</th>\n",
       "      <td>bad</td>\n",
       "      <td>My first account that was locked was an accoun...</td>\n",
       "      <td>first account locked account since elementary ...</td>\n",
       "    </tr>\n",
       "    <tr>\n",
       "      <th>9</th>\n",
       "      <td>bad</td>\n",
       "      <td>I have had my snap account for a while but the...</td>\n",
       "      <td>account wanted create new lasted three day new...</td>\n",
       "    </tr>\n",
       "    <tr>\n",
       "      <th>...</th>\n",
       "      <td>...</td>\n",
       "      <td>...</td>\n",
       "      <td>...</td>\n",
       "    </tr>\n",
       "    <tr>\n",
       "      <th>9539</th>\n",
       "      <td>bad</td>\n",
       "      <td>I have old pictures from before I realized you...</td>\n",
       "      <td>old picture realized could change setting ever...</td>\n",
       "    </tr>\n",
       "    <tr>\n",
       "      <th>9544</th>\n",
       "      <td>bad</td>\n",
       "      <td>so basically every time i open a message it ta...</td>\n",
       "      <td>basically every time open message take hour lo...</td>\n",
       "    </tr>\n",
       "    <tr>\n",
       "      <th>9554</th>\n",
       "      <td>bad</td>\n",
       "      <td>If I can give his crappy app a 0 star I would....</td>\n",
       "      <td>give crappy star would first thing first crash...</td>\n",
       "    </tr>\n",
       "    <tr>\n",
       "      <th>9555</th>\n",
       "      <td>bad</td>\n",
       "      <td>I used to love using Snapchat and now I hardly...</td>\n",
       "      <td>used love using hardly ever camera quality x a...</td>\n",
       "    </tr>\n",
       "    <tr>\n",
       "      <th>9556</th>\n",
       "      <td>bad</td>\n",
       "      <td>Well, I did deleted it because there was some ...</td>\n",
       "      <td>well deleted inappropriate content research al...</td>\n",
       "    </tr>\n",
       "  </tbody>\n",
       "</table>\n",
       "<p>3111 rows × 3 columns</p>\n",
       "</div>"
      ],
      "text/plain": [
       "     sentiment                                             review  \\\n",
       "4          bad  This is super frustrating. I was in the middle...   \n",
       "5          bad  I am very unsatisfied with the new update and ...   \n",
       "7          bad  My snapchat got hacked about a month ago, whic...   \n",
       "8          bad  My first account that was locked was an accoun...   \n",
       "9          bad  I have had my snap account for a while but the...   \n",
       "...        ...                                                ...   \n",
       "9539       bad  I have old pictures from before I realized you...   \n",
       "9544       bad  so basically every time i open a message it ta...   \n",
       "9554       bad  If I can give his crappy app a 0 star I would....   \n",
       "9555       bad  I used to love using Snapchat and now I hardly...   \n",
       "9556       bad  Well, I did deleted it because there was some ...   \n",
       "\n",
       "                                                  lemma  \n",
       "4     super frustrating middle sending logged tried ...  \n",
       "5     unsatisfied new update pretty sure others say ...  \n",
       "7     got hacked month ago know isnt entirely fault ...  \n",
       "8     first account locked account since elementary ...  \n",
       "9     account wanted create new lasted three day new...  \n",
       "...                                                 ...  \n",
       "9539  old picture realized could change setting ever...  \n",
       "9544  basically every time open message take hour lo...  \n",
       "9554  give crappy star would first thing first crash...  \n",
       "9555  used love using hardly ever camera quality x a...  \n",
       "9556  well deleted inappropriate content research al...  \n",
       "\n",
       "[3111 rows x 3 columns]"
      ]
     },
     "execution_count": 143,
     "metadata": {},
     "output_type": "execute_result"
    }
   ],
   "source": [
    "negative_reviews = data.loc[(data['sentiment'] == 'bad')]\n",
    "negative_reviews"
   ]
  },
  {
   "cell_type": "code",
   "execution_count": 144,
   "id": "c7bc3145",
   "metadata": {},
   "outputs": [],
   "source": [
    "words=positive_reviews['lemma'].tolist()\n",
    "words=''.join(words)"
   ]
  },
  {
   "cell_type": "code",
   "execution_count": 145,
   "id": "370e80d8",
   "metadata": {},
   "outputs": [],
   "source": [
    "from PIL import Image\n",
    "from wordcloud import WordCloud, STOPWORDS, ImageColorGenerator"
   ]
  },
  {
   "cell_type": "code",
   "execution_count": 146,
   "id": "e1b2e9f6",
   "metadata": {},
   "outputs": [
    {
     "data": {
      "image/png": "[encoded data removed]",
      "text/plain": [
       "<Figure size 1080x504 with 1 Axes>"
      ]
     },
     "metadata": {
      "needs_background": "light"
     },
     "output_type": "display_data"
    }
   ],
   "source": [
    "mask = np.array(Image.open(\"snap3.png\"))\n",
    "\n",
    "wc = WordCloud(background_color='white', mask=mask, mode='RGB',\n",
    "               width=1000, max_words=500, height=1000,\n",
    "               random_state=1, contour_width=1,contour_color='yellow',colormap='Set2')\n",
    "wc.generate(words)\n",
    "plt.figure(figsize=(15, 7))\n",
    "plt.imshow(wc, interpolation='bilinear')\n",
    "plt.tight_layout(pad=0)\n",
    "plt.axis('off')\n",
    "plt.show()"
   ]
  },
  {
   "cell_type": "code",
   "execution_count": 147,
   "id": "dc066c8a",
   "metadata": {
    "scrolled": false
   },
   "outputs": [
    {
     "data": {
      "image/png": "[encoded data removed]",
      "text/plain": [
       "<Figure size 1080x504 with 1 Axes>"
      ]
     },
     "metadata": {
      "needs_background": "light"
     },
     "output_type": "display_data"
    }
   ],
   "source": [
    "words2=negative_reviews['lemma'].tolist()\n",
    "words2=''.join(words2)\n",
    "mask = np.array(Image.open(\"snap3.png\"))\n",
    "\n",
    "wc = WordCloud(background_color='white', mask=mask, mode='RGB',\n",
    "               width=1000, max_words=500, height=1000,\n",
    "               random_state=1, contour_width=1,contour_color='yellow',colormap='Set2')\n",
    "wc.generate(words2)\n",
    "plt.figure(figsize=(15, 7))\n",
    "plt.imshow(wc, interpolation='bilinear')\n",
    "plt.tight_layout(pad=0)\n",
    "plt.axis('off')\n",
    "plt.show()"
   ]
  },
  {
   "cell_type": "code",
   "execution_count": 202,
   "id": "0dd9e819",
   "metadata": {},
   "outputs": [
    {
     "data": {
      "application/vnd.plotly.v1+json": {
       "config": {
        "plotlyServerURL": "https://plot.ly"
       },
       "data": [
        {
         "type": "bar",
         "x": [
          "like",
          "friend",
          "time",
          "account",
          "update",
          "story",
          "love",
          "fix",
          "new",
          "use",
          "really",
          "phone",
          "make",
          "problem",
          "chat",
          "know",
          "say",
          "way",
          "send",
          "year"
         ],
         "y": [
          4090,
          3083,
          2866,
          2845,
          2825,
          2810,
          2649,
          2229,
          2120,
          2115,
          2080,
          2075,
          1979,
          1722,
          1656,
          1626,
          1550,
          1503,
          1501,
          1452
         ]
        }
       ],
       "layout": {
        "template": {
         "data": {
          "bar": [
           {
            "error_x": {
             "color": "#2a3f5f"
            },
            "error_y": {
             "color": "#2a3f5f"
            },
            "marker": {
             "line": {
              "color": "#E5ECF6",
              "width": 0.5
             },
             "pattern": {
              "fillmode": "overlay",
              "size": 10,
              "solidity": 0.2
             }
            },
            "type": "bar"
           }
          ],
          "barpolar": [
           {
            "marker": {
             "line": {
              "color": "#E5ECF6",
              "width": 0.5
             },
             "pattern": {
              "fillmode": "overlay",
              "size": 10,
              "solidity": 0.2
             }
            },
            "type": "barpolar"
           }
          ],
          "carpet": [
           {
            "aaxis": {
             "endlinecolor": "#2a3f5f",
             "gridcolor": "white",
             "linecolor": "white",
             "minorgridcolor": "white",
             "startlinecolor": "#2a3f5f"
            },
            "baxis": {
             "endlinecolor": "#2a3f5f",
             "gridcolor": "white",
             "linecolor": "white",
             "minorgridcolor": "white",
             "startlinecolor": "#2a3f5f"
            },
            "type": "carpet"
           }
          ],
          "choropleth": [
           {
            "colorbar": {
             "outlinewidth": 0,
             "ticks": ""
            },
            "type": "choropleth"
           }
          ],
          "contour": [
           {
            "colorbar": {
             "outlinewidth": 0,
             "ticks": ""
            },
            "colorscale": [
             [
              0,
              "#0d0887"
             ],
             [
              0.1111111111111111,
              "#46039f"
             ],
             [
              0.2222222222222222,
              "#7201a8"
             ],
             [
              0.3333333333333333,
              "#9c179e"
             ],
             [
              0.4444444444444444,
              "#bd3786"
             ],
             [
              0.5555555555555556,
              "#d8576b"
             ],
             [
              0.6666666666666666,
              "#ed7953"
             ],
             [
              0.7777777777777778,
              "#fb9f3a"
             ],
             [
              0.8888888888888888,
              "#fdca26"
             ],
             [
              1,
              "#f0f921"
             ]
            ],
            "type": "contour"
           }
          ],
          "contourcarpet": [
           {
            "colorbar": {
             "outlinewidth": 0,
             "ticks": ""
            },
            "type": "contourcarpet"
           }
          ],
          "heatmap": [
           {
            "colorbar": {
             "outlinewidth": 0,
             "ticks": ""
            },
            "colorscale": [
             [
              0,
              "#0d0887"
             ],
             [
              0.1111111111111111,
              "#46039f"
             ],
             [
              0.2222222222222222,
              "#7201a8"
             ],
             [
              0.3333333333333333,
              "#9c179e"
             ],
             [
              0.4444444444444444,
              "#bd3786"
             ],
             [
              0.5555555555555556,
              "#d8576b"
             ],
             [
              0.6666666666666666,
              "#ed7953"
             ],
             [
              0.7777777777777778,
              "#fb9f3a"
             ],
             [
              0.8888888888888888,
              "#fdca26"
             ],
             [
              1,
              "#f0f921"
             ]
            ],
            "type": "heatmap"
           }
          ],
          "heatmapgl": [
           {
            "colorbar": {
             "outlinewidth": 0,
             "ticks": ""
            },
            "colorscale": [
             [
              0,
              "#0d0887"
             ],
             [
              0.1111111111111111,
              "#46039f"
             ],
             [
              0.2222222222222222,
              "#7201a8"
             ],
             [
              0.3333333333333333,
              "#9c179e"
             ],
             [
              0.4444444444444444,
              "#bd3786"
             ],
             [
              0.5555555555555556,
              "#d8576b"
             ],
             [
              0.6666666666666666,
              "#ed7953"
             ],
             [
              0.7777777777777778,
              "#fb9f3a"
             ],
             [
              0.8888888888888888,
              "#fdca26"
             ],
             [
              1,
              "#f0f921"
             ]
            ],
            "type": "heatmapgl"
           }
          ],
          "histogram": [
           {
            "marker": {
             "pattern": {
              "fillmode": "overlay",
              "size": 10,
              "solidity": 0.2
             }
            },
            "type": "histogram"
           }
          ],
          "histogram2d": [
           {
            "colorbar": {
             "outlinewidth": 0,
             "ticks": ""
            },
            "colorscale": [
             [
              0,
              "#0d0887"
             ],
             [
              0.1111111111111111,
              "#46039f"
             ],
             [
              0.2222222222222222,
              "#7201a8"
             ],
             [
              0.3333333333333333,
              "#9c179e"
             ],
             [
              0.4444444444444444,
              "#bd3786"
             ],
             [
              0.5555555555555556,
              "#d8576b"
             ],
             [
              0.6666666666666666,
              "#ed7953"
             ],
             [
              0.7777777777777778,
              "#fb9f3a"
             ],
             [
              0.8888888888888888,
              "#fdca26"
             ],
             [
              1,
              "#f0f921"
             ]
            ],
            "type": "histogram2d"
           }
          ],
          "histogram2dcontour": [
           {
            "colorbar": {
             "outlinewidth": 0,
             "ticks": ""
            },
            "colorscale": [
             [
              0,
              "#0d0887"
             ],
             [
              0.1111111111111111,
              "#46039f"
             ],
             [
              0.2222222222222222,
              "#7201a8"
             ],
             [
              0.3333333333333333,
              "#9c179e"
             ],
             [
              0.4444444444444444,
              "#bd3786"
             ],
             [
              0.5555555555555556,
              "#d8576b"
             ],
             [
              0.6666666666666666,
              "#ed7953"
             ],
             [
              0.7777777777777778,
              "#fb9f3a"
             ],
             [
              0.8888888888888888,
              "#fdca26"
             ],
             [
              1,
              "#f0f921"
             ]
            ],
            "type": "histogram2dcontour"
           }
          ],
          "mesh3d": [
           {
            "colorbar": {
             "outlinewidth": 0,
             "ticks": ""
            },
            "type": "mesh3d"
           }
          ],
          "parcoords": [
           {
            "line": {
             "colorbar": {
              "outlinewidth": 0,
              "ticks": ""
             }
            },
            "type": "parcoords"
           }
          ],
          "pie": [
           {
            "automargin": true,
            "type": "pie"
           }
          ],
          "scatter": [
           {
            "marker": {
             "colorbar": {
              "outlinewidth": 0,
              "ticks": ""
             }
            },
            "type": "scatter"
           }
          ],
          "scatter3d": [
           {
            "line": {
             "colorbar": {
              "outlinewidth": 0,
              "ticks": ""
             }
            },
            "marker": {
             "colorbar": {
              "outlinewidth": 0,
              "ticks": ""
             }
            },
            "type": "scatter3d"
           }
          ],
          "scattercarpet": [
           {
            "marker": {
             "colorbar": {
              "outlinewidth": 0,
              "ticks": ""
             }
            },
            "type": "scattercarpet"
           }
          ],
          "scattergeo": [
           {
            "marker": {
             "colorbar": {
              "outlinewidth": 0,
              "ticks": ""
             }
            },
            "type": "scattergeo"
           }
          ],
          "scattergl": [
           {
            "marker": {
             "colorbar": {
              "outlinewidth": 0,
              "ticks": ""
             }
            },
            "type": "scattergl"
           }
          ],
          "scattermapbox": [
           {
            "marker": {
             "colorbar": {
              "outlinewidth": 0,
              "ticks": ""
             }
            },
            "type": "scattermapbox"
           }
          ],
          "scatterpolar": [
           {
            "marker": {
             "colorbar": {
              "outlinewidth": 0,
              "ticks": ""
             }
            },
            "type": "scatterpolar"
           }
          ],
          "scatterpolargl": [
           {
            "marker": {
             "colorbar": {
              "outlinewidth": 0,
              "ticks": ""
             }
            },
            "type": "scatterpolargl"
           }
          ],
          "scatterternary": [
           {
            "marker": {
             "colorbar": {
              "outlinewidth": 0,
              "ticks": ""
             }
            },
            "type": "scatterternary"
           }
          ],
          "surface": [
           {
            "colorbar": {
             "outlinewidth": 0,
             "ticks": ""
            },
            "colorscale": [
             [
              0,
              "#0d0887"
             ],
             [
              0.1111111111111111,
              "#46039f"
             ],
             [
              0.2222222222222222,
              "#7201a8"
             ],
             [
              0.3333333333333333,
              "#9c179e"
             ],
             [
              0.4444444444444444,
              "#bd3786"
             ],
             [
              0.5555555555555556,
              "#d8576b"
             ],
             [
              0.6666666666666666,
              "#ed7953"
             ],
             [
              0.7777777777777778,
              "#fb9f3a"
             ],
             [
              0.8888888888888888,
              "#fdca26"
             ],
             [
              1,
              "#f0f921"
             ]
            ],
            "type": "surface"
           }
          ],
          "table": [
           {
            "cells": {
             "fill": {
              "color": "#EBF0F8"
             },
             "line": {
              "color": "white"
             }
            },
            "header": {
             "fill": {
              "color": "#C8D4E3"
             },
             "line": {
              "color": "white"
             }
            },
            "type": "table"
           }
          ]
         },
         "layout": {
          "annotationdefaults": {
           "arrowcolor": "#2a3f5f",
           "arrowhead": 0,
           "arrowwidth": 1
          },
          "autotypenumbers": "strict",
          "coloraxis": {
           "colorbar": {
            "outlinewidth": 0,
            "ticks": ""
           }
          },
          "colorscale": {
           "diverging": [
            [
             0,
             "#8e0152"
            ],
            [
             0.1,
             "#c51b7d"
            ],
            [
             0.2,
             "#de77ae"
            ],
            [
             0.3,
             "#f1b6da"
            ],
            [
             0.4,
             "#fde0ef"
            ],
            [
             0.5,
             "#f7f7f7"
            ],
            [
             0.6,
             "#e6f5d0"
            ],
            [
             0.7,
             "#b8e186"
            ],
            [
             0.8,
             "#7fbc41"
            ],
            [
             0.9,
             "#4d9221"
            ],
            [
             1,
             "#276419"
            ]
           ],
           "sequential": [
            [
             0,
             "#0d0887"
            ],
            [
             0.1111111111111111,
             "#46039f"
            ],
            [
             0.2222222222222222,
             "#7201a8"
            ],
            [
             0.3333333333333333,
             "#9c179e"
            ],
            [
             0.4444444444444444,
             "#bd3786"
            ],
            [
             0.5555555555555556,
             "#d8576b"
            ],
            [
             0.6666666666666666,
             "#ed7953"
            ],
            [
             0.7777777777777778,
             "#fb9f3a"
            ],
            [
             0.8888888888888888,
             "#fdca26"
            ],
            [
             1,
             "#f0f921"
            ]
           ],
           "sequentialminus": [
            [
             0,
             "#0d0887"
            ],
            [
             0.1111111111111111,
             "#46039f"
            ],
            [
             0.2222222222222222,
             "#7201a8"
            ],
            [
             0.3333333333333333,
             "#9c179e"
            ],
            [
             0.4444444444444444,
             "#bd3786"
            ],
            [
             0.5555555555555556,
             "#d8576b"
            ],
            [
             0.6666666666666666,
             "#ed7953"
            ],
            [
             0.7777777777777778,
             "#fb9f3a"
            ],
            [
             0.8888888888888888,
             "#fdca26"
            ],
            [
             1,
             "#f0f921"
            ]
           ]
          },
          "colorway": [
           "#636efa",
           "#EF553B",
           "#00cc96",
           "#ab63fa",
           "#FFA15A",
           "#19d3f3",
           "#FF6692",
           "#B6E880",
           "#FF97FF",
           "#FECB52"
          ],
          "font": {
           "color": "#2a3f5f"
          },
          "geo": {
           "bgcolor": "white",
           "lakecolor": "white",
           "landcolor": "#E5ECF6",
           "showlakes": true,
           "showland": true,
           "subunitcolor": "white"
          },
          "hoverlabel": {
           "align": "left"
          },
          "hovermode": "closest",
          "mapbox": {
           "style": "light"
          },
          "paper_bgcolor": "white",
          "plot_bgcolor": "#E5ECF6",
          "polar": {
           "angularaxis": {
            "gridcolor": "white",
            "linecolor": "white",
            "ticks": ""
           },
           "bgcolor": "#E5ECF6",
           "radialaxis": {
            "gridcolor": "white",
            "linecolor": "white",
            "ticks": ""
           }
          },
          "scene": {
           "xaxis": {
            "backgroundcolor": "#E5ECF6",
            "gridcolor": "white",
            "gridwidth": 2,
            "linecolor": "white",
            "showbackground": true,
            "ticks": "",
            "zerolinecolor": "white"
           },
           "yaxis": {
            "backgroundcolor": "#E5ECF6",
            "gridcolor": "white",
            "gridwidth": 2,
            "linecolor": "white",
            "showbackground": true,
            "ticks": "",
            "zerolinecolor": "white"
           },
           "zaxis": {
            "backgroundcolor": "#E5ECF6",
            "gridcolor": "white",
            "gridwidth": 2,
            "linecolor": "white",
            "showbackground": true,
            "ticks": "",
            "zerolinecolor": "white"
           }
          },
          "shapedefaults": {
           "line": {
            "color": "#2a3f5f"
           }
          },
          "ternary": {
           "aaxis": {
            "gridcolor": "white",
            "linecolor": "white",
            "ticks": ""
           },
           "baxis": {
            "gridcolor": "white",
            "linecolor": "white",
            "ticks": ""
           },
           "bgcolor": "#E5ECF6",
           "caxis": {
            "gridcolor": "white",
            "linecolor": "white",
            "ticks": ""
           }
          },
          "title": {
           "x": 0.05
          },
          "xaxis": {
           "automargin": true,
           "gridcolor": "white",
           "linecolor": "white",
           "ticks": "",
           "title": {
            "standoff": 15
           },
           "zerolinecolor": "white",
           "zerolinewidth": 2
          },
          "yaxis": {
           "automargin": true,
           "gridcolor": "white",
           "linecolor": "white",
           "ticks": "",
           "title": {
            "standoff": 15
           },
           "zerolinecolor": "white",
           "zerolinewidth": 2
          }
         }
        },
        "title": {
         "text": "Top 20 unigrams in the question text after removing stop words and lemmatization"
        }
       }
      },
      "text/html": [
       "<div>                            <div id=\"f02026fa-499a-4397-84cc-32962e74763e\" class=\"plotly-graph-div\" style=\"height:525px; width:100%;\"></div>            <script type=\"text/javascript\">                require([\"plotly\"], function(Plotly) {                    window.PLOTLYENV=window.PLOTLYENV || {};                                    if (document.getElementById(\"f02026fa-499a-4397-84cc-32962e74763e\")) {                    Plotly.newPlot(                        \"f02026fa-499a-4397-84cc-32962e74763e\",                        [{\"type\":\"bar\",\"x\":[\"like\",\"friend\",\"time\",\"account\",\"update\",\"story\",\"love\",\"fix\",\"new\",\"use\",\"really\",\"phone\",\"make\",\"problem\",\"chat\",\"know\",\"say\",\"way\",\"send\",\"year\"],\"y\":[4090,3083,2866,2845,2825,2810,2649,2229,2120,2115,2080,2075,1979,1722,1656,1626,1550,1503,1501,1452]}],                        {\"template\":{\"data\":{\"bar\":[{\"error_x\":{\"color\":\"#2a3f5f\"},\"error_y\":{\"color\":\"#2a3f5f\"},\"marker\":{\"line\":{\"color\":\"#E5ECF6\",\"width\":0.5},\"pattern\":{\"fillmode\":\"overlay\",\"size\":10,\"solidity\":0.2}},\"type\":\"bar\"}],\"barpolar\":[{\"marker\":{\"line\":{\"color\":\"#E5ECF6\",\"width\":0.5},\"pattern\":{\"fillmode\":\"overlay\",\"size\":10,\"solidity\":0.2}},\"type\":\"barpolar\"}],\"carpet\":[{\"aaxis\":{\"endlinecolor\":\"#2a3f5f\",\"gridcolor\":\"white\",\"linecolor\":\"white\",\"minorgridcolor\":\"white\",\"startlinecolor\":\"#2a3f5f\"},\"baxis\":{\"endlinecolor\":\"#2a3f5f\",\"gridcolor\":\"white\",\"linecolor\":\"white\",\"minorgridcolor\":\"white\",\"startlinecolor\":\"#2a3f5f\"},\"type\":\"carpet\"}],\"choropleth\":[{\"colorbar\":{\"outlinewidth\":0,\"ticks\":\"\"},\"type\":\"choropleth\"}],\"contour\":[{\"colorbar\":{\"outlinewidth\":0,\"ticks\":\"\"},\"colorscale\":[[0.0,\"#0d0887\"],[0.1111111111111111,\"#46039f\"],[0.2222222222222222,\"#7201a8\"],[0.3333333333333333,\"#9c179e\"],[0.4444444444444444,\"#bd3786\"],[0.5555555555555556,\"#d8576b\"],[0.6666666666666666,\"#ed7953\"],[0.7777777777777778,\"#fb9f3a\"],[0.8888888888888888,\"#fdca26\"],[1.0,\"#f0f921\"]],\"type\":\"contour\"}],\"contourcarpet\":[{\"colorbar\":{\"outlinewidth\":0,\"ticks\":\"\"},\"type\":\"contourcarpet\"}],\"heatmap\":[{\"colorbar\":{\"outlinewidth\":0,\"ticks\":\"\"},\"colorscale\":[[0.0,\"#0d0887\"],[0.1111111111111111,\"#46039f\"],[0.2222222222222222,\"#7201a8\"],[0.3333333333333333,\"#9c179e\"],[0.4444444444444444,\"#bd3786\"],[0.5555555555555556,\"#d8576b\"],[0.6666666666666666,\"#ed7953\"],[0.7777777777777778,\"#fb9f3a\"],[0.8888888888888888,\"#fdca26\"],[1.0,\"#f0f921\"]],\"type\":\"heatmap\"}],\"heatmapgl\":[{\"colorbar\":{\"outlinewidth\":0,\"ticks\":\"\"},\"colorscale\":[[0.0,\"#0d0887\"],[0.1111111111111111,\"#46039f\"],[0.2222222222222222,\"#7201a8\"],[0.3333333333333333,\"#9c179e\"],[0.4444444444444444,\"#bd3786\"],[0.5555555555555556,\"#d8576b\"],[0.6666666666666666,\"#ed7953\"],[0.7777777777777778,\"#fb9f3a\"],[0.8888888888888888,\"#fdca26\"],[1.0,\"#f0f921\"]],\"type\":\"heatmapgl\"}],\"histogram\":[{\"marker\":{\"pattern\":{\"fillmode\":\"overlay\",\"size\":10,\"solidity\":0.2}},\"type\":\"histogram\"}],\"histogram2d\":[{\"colorbar\":{\"outlinewidth\":0,\"ticks\":\"\"},\"colorscale\":[[0.0,\"#0d0887\"],[0.1111111111111111,\"#46039f\"],[0.2222222222222222,\"#7201a8\"],[0.3333333333333333,\"#9c179e\"],[0.4444444444444444,\"#bd3786\"],[0.5555555555555556,\"#d8576b\"],[0.6666666666666666,\"#ed7953\"],[0.7777777777777778,\"#fb9f3a\"],[0.8888888888888888,\"#fdca26\"],[1.0,\"#f0f921\"]],\"type\":\"histogram2d\"}],\"histogram2dcontour\":[{\"colorbar\":{\"outlinewidth\":0,\"ticks\":\"\"},\"colorscale\":[[0.0,\"#0d0887\"],[0.1111111111111111,\"#46039f\"],[0.2222222222222222,\"#7201a8\"],[0.3333333333333333,\"#9c179e\"],[0.4444444444444444,\"#bd3786\"],[0.5555555555555556,\"#d8576b\"],[0.6666666666666666,\"#ed7953\"],[0.7777777777777778,\"#fb9f3a\"],[0.8888888888888888,\"#fdca26\"],[1.0,\"#f0f921\"]],\"type\":\"histogram2dcontour\"}],\"mesh3d\":[{\"colorbar\":{\"outlinewidth\":0,\"ticks\":\"\"},\"type\":\"mesh3d\"}],\"parcoords\":[{\"line\":{\"colorbar\":{\"outlinewidth\":0,\"ticks\":\"\"}},\"type\":\"parcoords\"}],\"pie\":[{\"automargin\":true,\"type\":\"pie\"}],\"scatter\":[{\"marker\":{\"colorbar\":{\"outlinewidth\":0,\"ticks\":\"\"}},\"type\":\"scatter\"}],\"scatter3d\":[{\"line\":{\"colorbar\":{\"outlinewidth\":0,\"ticks\":\"\"}},\"marker\":{\"colorbar\":{\"outlinewidth\":0,\"ticks\":\"\"}},\"type\":\"scatter3d\"}],\"scattercarpet\":[{\"marker\":{\"colorbar\":{\"outlinewidth\":0,\"ticks\":\"\"}},\"type\":\"scattercarpet\"}],\"scattergeo\":[{\"marker\":{\"colorbar\":{\"outlinewidth\":0,\"ticks\":\"\"}},\"type\":\"scattergeo\"}],\"scattergl\":[{\"marker\":{\"colorbar\":{\"outlinewidth\":0,\"ticks\":\"\"}},\"type\":\"scattergl\"}],\"scattermapbox\":[{\"marker\":{\"colorbar\":{\"outlinewidth\":0,\"ticks\":\"\"}},\"type\":\"scattermapbox\"}],\"scatterpolar\":[{\"marker\":{\"colorbar\":{\"outlinewidth\":0,\"ticks\":\"\"}},\"type\":\"scatterpolar\"}],\"scatterpolargl\":[{\"marker\":{\"colorbar\":{\"outlinewidth\":0,\"ticks\":\"\"}},\"type\":\"scatterpolargl\"}],\"scatterternary\":[{\"marker\":{\"colorbar\":{\"outlinewidth\":0,\"ticks\":\"\"}},\"type\":\"scatterternary\"}],\"surface\":[{\"colorbar\":{\"outlinewidth\":0,\"ticks\":\"\"},\"colorscale\":[[0.0,\"#0d0887\"],[0.1111111111111111,\"#46039f\"],[0.2222222222222222,\"#7201a8\"],[0.3333333333333333,\"#9c179e\"],[0.4444444444444444,\"#bd3786\"],[0.5555555555555556,\"#d8576b\"],[0.6666666666666666,\"#ed7953\"],[0.7777777777777778,\"#fb9f3a\"],[0.8888888888888888,\"#fdca26\"],[1.0,\"#f0f921\"]],\"type\":\"surface\"}],\"table\":[{\"cells\":{\"fill\":{\"color\":\"#EBF0F8\"},\"line\":{\"color\":\"white\"}},\"header\":{\"fill\":{\"color\":\"#C8D4E3\"},\"line\":{\"color\":\"white\"}},\"type\":\"table\"}]},\"layout\":{\"annotationdefaults\":{\"arrowcolor\":\"#2a3f5f\",\"arrowhead\":0,\"arrowwidth\":1},\"autotypenumbers\":\"strict\",\"coloraxis\":{\"colorbar\":{\"outlinewidth\":0,\"ticks\":\"\"}},\"colorscale\":{\"diverging\":[[0,\"#8e0152\"],[0.1,\"#c51b7d\"],[0.2,\"#de77ae\"],[0.3,\"#f1b6da\"],[0.4,\"#fde0ef\"],[0.5,\"#f7f7f7\"],[0.6,\"#e6f5d0\"],[0.7,\"#b8e186\"],[0.8,\"#7fbc41\"],[0.9,\"#4d9221\"],[1,\"#276419\"]],\"sequential\":[[0.0,\"#0d0887\"],[0.1111111111111111,\"#46039f\"],[0.2222222222222222,\"#7201a8\"],[0.3333333333333333,\"#9c179e\"],[0.4444444444444444,\"#bd3786\"],[0.5555555555555556,\"#d8576b\"],[0.6666666666666666,\"#ed7953\"],[0.7777777777777778,\"#fb9f3a\"],[0.8888888888888888,\"#fdca26\"],[1.0,\"#f0f921\"]],\"sequentialminus\":[[0.0,\"#0d0887\"],[0.1111111111111111,\"#46039f\"],[0.2222222222222222,\"#7201a8\"],[0.3333333333333333,\"#9c179e\"],[0.4444444444444444,\"#bd3786\"],[0.5555555555555556,\"#d8576b\"],[0.6666666666666666,\"#ed7953\"],[0.7777777777777778,\"#fb9f3a\"],[0.8888888888888888,\"#fdca26\"],[1.0,\"#f0f921\"]]},\"colorway\":[\"#636efa\",\"#EF553B\",\"#00cc96\",\"#ab63fa\",\"#FFA15A\",\"#19d3f3\",\"#FF6692\",\"#B6E880\",\"#FF97FF\",\"#FECB52\"],\"font\":{\"color\":\"#2a3f5f\"},\"geo\":{\"bgcolor\":\"white\",\"lakecolor\":\"white\",\"landcolor\":\"#E5ECF6\",\"showlakes\":true,\"showland\":true,\"subunitcolor\":\"white\"},\"hoverlabel\":{\"align\":\"left\"},\"hovermode\":\"closest\",\"mapbox\":{\"style\":\"light\"},\"paper_bgcolor\":\"white\",\"plot_bgcolor\":\"#E5ECF6\",\"polar\":{\"angularaxis\":{\"gridcolor\":\"white\",\"linecolor\":\"white\",\"ticks\":\"\"},\"bgcolor\":\"#E5ECF6\",\"radialaxis\":{\"gridcolor\":\"white\",\"linecolor\":\"white\",\"ticks\":\"\"}},\"scene\":{\"xaxis\":{\"backgroundcolor\":\"#E5ECF6\",\"gridcolor\":\"white\",\"gridwidth\":2,\"linecolor\":\"white\",\"showbackground\":true,\"ticks\":\"\",\"zerolinecolor\":\"white\"},\"yaxis\":{\"backgroundcolor\":\"#E5ECF6\",\"gridcolor\":\"white\",\"gridwidth\":2,\"linecolor\":\"white\",\"showbackground\":true,\"ticks\":\"\",\"zerolinecolor\":\"white\"},\"zaxis\":{\"backgroundcolor\":\"#E5ECF6\",\"gridcolor\":\"white\",\"gridwidth\":2,\"linecolor\":\"white\",\"showbackground\":true,\"ticks\":\"\",\"zerolinecolor\":\"white\"}},\"shapedefaults\":{\"line\":{\"color\":\"#2a3f5f\"}},\"ternary\":{\"aaxis\":{\"gridcolor\":\"white\",\"linecolor\":\"white\",\"ticks\":\"\"},\"baxis\":{\"gridcolor\":\"white\",\"linecolor\":\"white\",\"ticks\":\"\"},\"bgcolor\":\"#E5ECF6\",\"caxis\":{\"gridcolor\":\"white\",\"linecolor\":\"white\",\"ticks\":\"\"}},\"title\":{\"x\":0.05},\"xaxis\":{\"automargin\":true,\"gridcolor\":\"white\",\"linecolor\":\"white\",\"ticks\":\"\",\"title\":{\"standoff\":15},\"zerolinecolor\":\"white\",\"zerolinewidth\":2},\"yaxis\":{\"automargin\":true,\"gridcolor\":\"white\",\"linecolor\":\"white\",\"ticks\":\"\",\"title\":{\"standoff\":15},\"zerolinecolor\":\"white\",\"zerolinewidth\":2}}},\"title\":{\"text\":\"Top 20 unigrams in the question text after removing stop words and lemmatization\"}},                        {\"responsive\": true}                    ).then(function(){\n",
       "                            \n",
       "var gd = document.getElementById('f02026fa-499a-4397-84cc-32962e74763e');\n",
       "var x = new MutationObserver(function (mutations, observer) {{\n",
       "        var display = window.getComputedStyle(gd).display;\n",
       "        if (!display || display === 'none') {{\n",
       "            console.log([gd, 'removed!']);\n",
       "            Plotly.purge(gd);\n",
       "            observer.disconnect();\n",
       "        }}\n",
       "}});\n",
       "\n",
       "// Listen for the removal of the full notebook cells\n",
       "var notebookContainer = gd.closest('#notebook-container');\n",
       "if (notebookContainer) {{\n",
       "    x.observe(notebookContainer, {childList: true});\n",
       "}}\n",
       "\n",
       "// Listen for the clearing of the current output cell\n",
       "var outputEl = gd.closest('.output');\n",
       "if (outputEl) {{\n",
       "    x.observe(outputEl, {childList: true});\n",
       "}}\n",
       "\n",
       "                        })                };                });            </script>        </div>"
      ]
     },
     "metadata": {},
     "output_type": "display_data"
    }
   ],
   "source": [
    "def get_top_n_words(corpus, n=None):\n",
    "    vec = CountVectorizer(stop_words='english').fit(corpus)\n",
    "    bag_of_words = vec.transform(corpus)\n",
    "    sum_words = bag_of_words.sum(axis=0) \n",
    "    words_freq = [(word, sum_words[0, idx]) for word, idx in vec.vocabulary_.items()]\n",
    "    words_freq =sorted(words_freq, key = lambda x: x[1], reverse=True)\n",
    "    return words_freq[:n]\n",
    "\n",
    "common_words = get_top_n_words(data['lemma'], 20)\n",
    "df2 = pd.DataFrame(common_words, columns = ['unigram' , 'count'])\n",
    "\n",
    "fig = go.Figure([go.Bar(x=df2['unigram'], y=df2['count'])])\n",
    "fig.update_layout(title=go.layout.Title(text=\"Top 20 unigrams in the question text after removing stop words and lemmatization\"))\n",
    "fig.show()"
   ]
  },
  {
   "cell_type": "code",
   "execution_count": 195,
   "id": "5b8108cb",
   "metadata": {},
   "outputs": [
    {
     "data": {
      "application/vnd.plotly.v1+json": {
       "config": {
        "plotlyServerURL": "https://plot.ly"
       },
       "data": [
        {
         "type": "bar",
         "x": [
          "new update",
          "dark mode",
          "social medium",
          "new account",
          "account locked",
          "love use",
          "phone number",
          "make new",
          "wan na",
          "locked account",
          "feel like",
          "multiple time",
          "talk friend",
          "black screen",
          "using year",
          "friend family",
          "post story",
          "long time",
          "permanently locked",
          "really like"
         ],
         "y": [
          677,
          524,
          306,
          282,
          241,
          234,
          215,
          210,
          200,
          194,
          189,
          187,
          186,
          184,
          180,
          179,
          175,
          170,
          168,
          168
         ]
        }
       ],
       "layout": {
        "template": {
         "data": {
          "bar": [
           {
            "error_x": {
             "color": "#2a3f5f"
            },
            "error_y": {
             "color": "#2a3f5f"
            },
            "marker": {
             "line": {
              "color": "#E5ECF6",
              "width": 0.5
             },
             "pattern": {
              "fillmode": "overlay",
              "size": 10,
              "solidity": 0.2
             }
            },
            "type": "bar"
           }
          ],
          "barpolar": [
           {
            "marker": {
             "line": {
              "color": "#E5ECF6",
              "width": 0.5
             },
             "pattern": {
              "fillmode": "overlay",
              "size": 10,
              "solidity": 0.2
             }
            },
            "type": "barpolar"
           }
          ],
          "carpet": [
           {
            "aaxis": {
             "endlinecolor": "#2a3f5f",
             "gridcolor": "white",
             "linecolor": "white",
             "minorgridcolor": "white",
             "startlinecolor": "#2a3f5f"
            },
            "baxis": {
             "endlinecolor": "#2a3f5f",
             "gridcolor": "white",
             "linecolor": "white",
             "minorgridcolor": "white",
             "startlinecolor": "#2a3f5f"
            },
            "type": "carpet"
           }
          ],
          "choropleth": [
           {
            "colorbar": {
             "outlinewidth": 0,
             "ticks": ""
            },
            "type": "choropleth"
           }
          ],
          "contour": [
           {
            "colorbar": {
             "outlinewidth": 0,
             "ticks": ""
            },
            "colorscale": [
             [
              0,
              "#0d0887"
             ],
             [
              0.1111111111111111,
              "#46039f"
             ],
             [
              0.2222222222222222,
              "#7201a8"
             ],
             [
              0.3333333333333333,
              "#9c179e"
             ],
             [
              0.4444444444444444,
              "#bd3786"
             ],
             [
              0.5555555555555556,
              "#d8576b"
             ],
             [
              0.6666666666666666,
              "#ed7953"
             ],
             [
              0.7777777777777778,
              "#fb9f3a"
             ],
             [
              0.8888888888888888,
              "#fdca26"
             ],
             [
              1,
              "#f0f921"
             ]
            ],
            "type": "contour"
           }
          ],
          "contourcarpet": [
           {
            "colorbar": {
             "outlinewidth": 0,
             "ticks": ""
            },
            "type": "contourcarpet"
           }
          ],
          "heatmap": [
           {
            "colorbar": {
             "outlinewidth": 0,
             "ticks": ""
            },
            "colorscale": [
             [
              0,
              "#0d0887"
             ],
             [
              0.1111111111111111,
              "#46039f"
             ],
             [
              0.2222222222222222,
              "#7201a8"
             ],
             [
              0.3333333333333333,
              "#9c179e"
             ],
             [
              0.4444444444444444,
              "#bd3786"
             ],
             [
              0.5555555555555556,
              "#d8576b"
             ],
             [
              0.6666666666666666,
              "#ed7953"
             ],
             [
              0.7777777777777778,
              "#fb9f3a"
             ],
             [
              0.8888888888888888,
              "#fdca26"
             ],
             [
              1,
              "#f0f921"
             ]
            ],
            "type": "heatmap"
           }
          ],
          "heatmapgl": [
           {
            "colorbar": {
             "outlinewidth": 0,
             "ticks": ""
            },
            "colorscale": [
             [
              0,
              "#0d0887"
             ],
             [
              0.1111111111111111,
              "#46039f"
             ],
             [
              0.2222222222222222,
              "#7201a8"
             ],
             [
              0.3333333333333333,
              "#9c179e"
             ],
             [
              0.4444444444444444,
              "#bd3786"
             ],
             [
              0.5555555555555556,
              "#d8576b"
             ],
             [
              0.6666666666666666,
              "#ed7953"
             ],
             [
              0.7777777777777778,
              "#fb9f3a"
             ],
             [
              0.8888888888888888,
              "#fdca26"
             ],
             [
              1,
              "#f0f921"
             ]
            ],
            "type": "heatmapgl"
           }
          ],
          "histogram": [
           {
            "marker": {
             "pattern": {
              "fillmode": "overlay",
              "size": 10,
              "solidity": 0.2
             }
            },
            "type": "histogram"
           }
          ],
          "histogram2d": [
           {
            "colorbar": {
             "outlinewidth": 0,
             "ticks": ""
            },
            "colorscale": [
             [
              0,
              "#0d0887"
             ],
             [
              0.1111111111111111,
              "#46039f"
             ],
             [
              0.2222222222222222,
              "#7201a8"
             ],
             [
              0.3333333333333333,
              "#9c179e"
             ],
             [
              0.4444444444444444,
              "#bd3786"
             ],
             [
              0.5555555555555556,
              "#d8576b"
             ],
             [
              0.6666666666666666,
              "#ed7953"
             ],
             [
              0.7777777777777778,
              "#fb9f3a"
             ],
             [
              0.8888888888888888,
              "#fdca26"
             ],
             [
              1,
              "#f0f921"
             ]
            ],
            "type": "histogram2d"
           }
          ],
          "histogram2dcontour": [
           {
            "colorbar": {
             "outlinewidth": 0,
             "ticks": ""
            },
            "colorscale": [
             [
              0,
              "#0d0887"
             ],
             [
              0.1111111111111111,
              "#46039f"
             ],
             [
              0.2222222222222222,
              "#7201a8"
             ],
             [
              0.3333333333333333,
              "#9c179e"
             ],
             [
              0.4444444444444444,
              "#bd3786"
             ],
             [
              0.5555555555555556,
              "#d8576b"
             ],
             [
              0.6666666666666666,
              "#ed7953"
             ],
             [
              0.7777777777777778,
              "#fb9f3a"
             ],
             [
              0.8888888888888888,
              "#fdca26"
             ],
             [
              1,
              "#f0f921"
             ]
            ],
            "type": "histogram2dcontour"
           }
          ],
          "mesh3d": [
           {
            "colorbar": {
             "outlinewidth": 0,
             "ticks": ""
            },
            "type": "mesh3d"
           }
          ],
          "parcoords": [
           {
            "line": {
             "colorbar": {
              "outlinewidth": 0,
              "ticks": ""
             }
            },
            "type": "parcoords"
           }
          ],
          "pie": [
           {
            "automargin": true,
            "type": "pie"
           }
          ],
          "scatter": [
           {
            "marker": {
             "colorbar": {
              "outlinewidth": 0,
              "ticks": ""
             }
            },
            "type": "scatter"
           }
          ],
          "scatter3d": [
           {
            "line": {
             "colorbar": {
              "outlinewidth": 0,
              "ticks": ""
             }
            },
            "marker": {
             "colorbar": {
              "outlinewidth": 0,
              "ticks": ""
             }
            },
            "type": "scatter3d"
           }
          ],
          "scattercarpet": [
           {
            "marker": {
             "colorbar": {
              "outlinewidth": 0,
              "ticks": ""
             }
            },
            "type": "scattercarpet"
           }
          ],
          "scattergeo": [
           {
            "marker": {
             "colorbar": {
              "outlinewidth": 0,
              "ticks": ""
             }
            },
            "type": "scattergeo"
           }
          ],
          "scattergl": [
           {
            "marker": {
             "colorbar": {
              "outlinewidth": 0,
              "ticks": ""
             }
            },
            "type": "scattergl"
           }
          ],
          "scattermapbox": [
           {
            "marker": {
             "colorbar": {
              "outlinewidth": 0,
              "ticks": ""
             }
            },
            "type": "scattermapbox"
           }
          ],
          "scatterpolar": [
           {
            "marker": {
             "colorbar": {
              "outlinewidth": 0,
              "ticks": ""
             }
            },
            "type": "scatterpolar"
           }
          ],
          "scatterpolargl": [
           {
            "marker": {
             "colorbar": {
              "outlinewidth": 0,
              "ticks": ""
             }
            },
            "type": "scatterpolargl"
           }
          ],
          "scatterternary": [
           {
            "marker": {
             "colorbar": {
              "outlinewidth": 0,
              "ticks": ""
             }
            },
            "type": "scatterternary"
           }
          ],
          "surface": [
           {
            "colorbar": {
             "outlinewidth": 0,
             "ticks": ""
            },
            "colorscale": [
             [
              0,
              "#0d0887"
             ],
             [
              0.1111111111111111,
              "#46039f"
             ],
             [
              0.2222222222222222,
              "#7201a8"
             ],
             [
              0.3333333333333333,
              "#9c179e"
             ],
             [
              0.4444444444444444,
              "#bd3786"
             ],
             [
              0.5555555555555556,
              "#d8576b"
             ],
             [
              0.6666666666666666,
              "#ed7953"
             ],
             [
              0.7777777777777778,
              "#fb9f3a"
             ],
             [
              0.8888888888888888,
              "#fdca26"
             ],
             [
              1,
              "#f0f921"
             ]
            ],
            "type": "surface"
           }
          ],
          "table": [
           {
            "cells": {
             "fill": {
              "color": "#EBF0F8"
             },
             "line": {
              "color": "white"
             }
            },
            "header": {
             "fill": {
              "color": "#C8D4E3"
             },
             "line": {
              "color": "white"
             }
            },
            "type": "table"
           }
          ]
         },
         "layout": {
          "annotationdefaults": {
           "arrowcolor": "#2a3f5f",
           "arrowhead": 0,
           "arrowwidth": 1
          },
          "autotypenumbers": "strict",
          "coloraxis": {
           "colorbar": {
            "outlinewidth": 0,
            "ticks": ""
           }
          },
          "colorscale": {
           "diverging": [
            [
             0,
             "#8e0152"
            ],
            [
             0.1,
             "#c51b7d"
            ],
            [
             0.2,
             "#de77ae"
            ],
            [
             0.3,
             "#f1b6da"
            ],
            [
             0.4,
             "#fde0ef"
            ],
            [
             0.5,
             "#f7f7f7"
            ],
            [
             0.6,
             "#e6f5d0"
            ],
            [
             0.7,
             "#b8e186"
            ],
            [
             0.8,
             "#7fbc41"
            ],
            [
             0.9,
             "#4d9221"
            ],
            [
             1,
             "#276419"
            ]
           ],
           "sequential": [
            [
             0,
             "#0d0887"
            ],
            [
             0.1111111111111111,
             "#46039f"
            ],
            [
             0.2222222222222222,
             "#7201a8"
            ],
            [
             0.3333333333333333,
             "#9c179e"
            ],
            [
             0.4444444444444444,
             "#bd3786"
            ],
            [
             0.5555555555555556,
             "#d8576b"
            ],
            [
             0.6666666666666666,
             "#ed7953"
            ],
            [
             0.7777777777777778,
             "#fb9f3a"
            ],
            [
             0.8888888888888888,
             "#fdca26"
            ],
            [
             1,
             "#f0f921"
            ]
           ],
           "sequentialminus": [
            [
             0,
             "#0d0887"
            ],
            [
             0.1111111111111111,
             "#46039f"
            ],
            [
             0.2222222222222222,
             "#7201a8"
            ],
            [
             0.3333333333333333,
             "#9c179e"
            ],
            [
             0.4444444444444444,
             "#bd3786"
            ],
            [
             0.5555555555555556,
             "#d8576b"
            ],
            [
             0.6666666666666666,
             "#ed7953"
            ],
            [
             0.7777777777777778,
             "#fb9f3a"
            ],
            [
             0.8888888888888888,
             "#fdca26"
            ],
            [
             1,
             "#f0f921"
            ]
           ]
          },
          "colorway": [
           "#636efa",
           "#EF553B",
           "#00cc96",
           "#ab63fa",
           "#FFA15A",
           "#19d3f3",
           "#FF6692",
           "#B6E880",
           "#FF97FF",
           "#FECB52"
          ],
          "font": {
           "color": "#2a3f5f"
          },
          "geo": {
           "bgcolor": "white",
           "lakecolor": "white",
           "landcolor": "#E5ECF6",
           "showlakes": true,
           "showland": true,
           "subunitcolor": "white"
          },
          "hoverlabel": {
           "align": "left"
          },
          "hovermode": "closest",
          "mapbox": {
           "style": "light"
          },
          "paper_bgcolor": "white",
          "plot_bgcolor": "#E5ECF6",
          "polar": {
           "angularaxis": {
            "gridcolor": "white",
            "linecolor": "white",
            "ticks": ""
           },
           "bgcolor": "#E5ECF6",
           "radialaxis": {
            "gridcolor": "white",
            "linecolor": "white",
            "ticks": ""
           }
          },
          "scene": {
           "xaxis": {
            "backgroundcolor": "#E5ECF6",
            "gridcolor": "white",
            "gridwidth": 2,
            "linecolor": "white",
            "showbackground": true,
            "ticks": "",
            "zerolinecolor": "white"
           },
           "yaxis": {
            "backgroundcolor": "#E5ECF6",
            "gridcolor": "white",
            "gridwidth": 2,
            "linecolor": "white",
            "showbackground": true,
            "ticks": "",
            "zerolinecolor": "white"
           },
           "zaxis": {
            "backgroundcolor": "#E5ECF6",
            "gridcolor": "white",
            "gridwidth": 2,
            "linecolor": "white",
            "showbackground": true,
            "ticks": "",
            "zerolinecolor": "white"
           }
          },
          "shapedefaults": {
           "line": {
            "color": "#2a3f5f"
           }
          },
          "ternary": {
           "aaxis": {
            "gridcolor": "white",
            "linecolor": "white",
            "ticks": ""
           },
           "baxis": {
            "gridcolor": "white",
            "linecolor": "white",
            "ticks": ""
           },
           "bgcolor": "#E5ECF6",
           "caxis": {
            "gridcolor": "white",
            "linecolor": "white",
            "ticks": ""
           }
          },
          "title": {
           "x": 0.05
          },
          "xaxis": {
           "automargin": true,
           "gridcolor": "white",
           "linecolor": "white",
           "ticks": "",
           "title": {
            "standoff": 15
           },
           "zerolinecolor": "white",
           "zerolinewidth": 2
          },
          "yaxis": {
           "automargin": true,
           "gridcolor": "white",
           "linecolor": "white",
           "ticks": "",
           "title": {
            "standoff": 15
           },
           "zerolinecolor": "white",
           "zerolinewidth": 2
          }
         }
        },
        "title": {
         "text": "Top 20 bigrams in the question text after removing stop words and lemmatization"
        }
       }
      },
      "text/html": [
       "<div>                            <div id=\"b731a51a-1382-421a-aa69-5cdad631e6b9\" class=\"plotly-graph-div\" style=\"height:525px; width:100%;\"></div>            <script type=\"text/javascript\">                require([\"plotly\"], function(Plotly) {                    window.PLOTLYENV=window.PLOTLYENV || {};                                    if (document.getElementById(\"b731a51a-1382-421a-aa69-5cdad631e6b9\")) {                    Plotly.newPlot(                        \"b731a51a-1382-421a-aa69-5cdad631e6b9\",                        [{\"type\":\"bar\",\"x\":[\"new update\",\"dark mode\",\"social medium\",\"new account\",\"account locked\",\"love use\",\"phone number\",\"make new\",\"wan na\",\"locked account\",\"feel like\",\"multiple time\",\"talk friend\",\"black screen\",\"using year\",\"friend family\",\"post story\",\"long time\",\"permanently locked\",\"really like\"],\"y\":[677,524,306,282,241,234,215,210,200,194,189,187,186,184,180,179,175,170,168,168]}],                        {\"template\":{\"data\":{\"bar\":[{\"error_x\":{\"color\":\"#2a3f5f\"},\"error_y\":{\"color\":\"#2a3f5f\"},\"marker\":{\"line\":{\"color\":\"#E5ECF6\",\"width\":0.5},\"pattern\":{\"fillmode\":\"overlay\",\"size\":10,\"solidity\":0.2}},\"type\":\"bar\"}],\"barpolar\":[{\"marker\":{\"line\":{\"color\":\"#E5ECF6\",\"width\":0.5},\"pattern\":{\"fillmode\":\"overlay\",\"size\":10,\"solidity\":0.2}},\"type\":\"barpolar\"}],\"carpet\":[{\"aaxis\":{\"endlinecolor\":\"#2a3f5f\",\"gridcolor\":\"white\",\"linecolor\":\"white\",\"minorgridcolor\":\"white\",\"startlinecolor\":\"#2a3f5f\"},\"baxis\":{\"endlinecolor\":\"#2a3f5f\",\"gridcolor\":\"white\",\"linecolor\":\"white\",\"minorgridcolor\":\"white\",\"startlinecolor\":\"#2a3f5f\"},\"type\":\"carpet\"}],\"choropleth\":[{\"colorbar\":{\"outlinewidth\":0,\"ticks\":\"\"},\"type\":\"choropleth\"}],\"contour\":[{\"colorbar\":{\"outlinewidth\":0,\"ticks\":\"\"},\"colorscale\":[[0.0,\"#0d0887\"],[0.1111111111111111,\"#46039f\"],[0.2222222222222222,\"#7201a8\"],[0.3333333333333333,\"#9c179e\"],[0.4444444444444444,\"#bd3786\"],[0.5555555555555556,\"#d8576b\"],[0.6666666666666666,\"#ed7953\"],[0.7777777777777778,\"#fb9f3a\"],[0.8888888888888888,\"#fdca26\"],[1.0,\"#f0f921\"]],\"type\":\"contour\"}],\"contourcarpet\":[{\"colorbar\":{\"outlinewidth\":0,\"ticks\":\"\"},\"type\":\"contourcarpet\"}],\"heatmap\":[{\"colorbar\":{\"outlinewidth\":0,\"ticks\":\"\"},\"colorscale\":[[0.0,\"#0d0887\"],[0.1111111111111111,\"#46039f\"],[0.2222222222222222,\"#7201a8\"],[0.3333333333333333,\"#9c179e\"],[0.4444444444444444,\"#bd3786\"],[0.5555555555555556,\"#d8576b\"],[0.6666666666666666,\"#ed7953\"],[0.7777777777777778,\"#fb9f3a\"],[0.8888888888888888,\"#fdca26\"],[1.0,\"#f0f921\"]],\"type\":\"heatmap\"}],\"heatmapgl\":[{\"colorbar\":{\"outlinewidth\":0,\"ticks\":\"\"},\"colorscale\":[[0.0,\"#0d0887\"],[0.1111111111111111,\"#46039f\"],[0.2222222222222222,\"#7201a8\"],[0.3333333333333333,\"#9c179e\"],[0.4444444444444444,\"#bd3786\"],[0.5555555555555556,\"#d8576b\"],[0.6666666666666666,\"#ed7953\"],[0.7777777777777778,\"#fb9f3a\"],[0.8888888888888888,\"#fdca26\"],[1.0,\"#f0f921\"]],\"type\":\"heatmapgl\"}],\"histogram\":[{\"marker\":{\"pattern\":{\"fillmode\":\"overlay\",\"size\":10,\"solidity\":0.2}},\"type\":\"histogram\"}],\"histogram2d\":[{\"colorbar\":{\"outlinewidth\":0,\"ticks\":\"\"},\"colorscale\":[[0.0,\"#0d0887\"],[0.1111111111111111,\"#46039f\"],[0.2222222222222222,\"#7201a8\"],[0.3333333333333333,\"#9c179e\"],[0.4444444444444444,\"#bd3786\"],[0.5555555555555556,\"#d8576b\"],[0.6666666666666666,\"#ed7953\"],[0.7777777777777778,\"#fb9f3a\"],[0.8888888888888888,\"#fdca26\"],[1.0,\"#f0f921\"]],\"type\":\"histogram2d\"}],\"histogram2dcontour\":[{\"colorbar\":{\"outlinewidth\":0,\"ticks\":\"\"},\"colorscale\":[[0.0,\"#0d0887\"],[0.1111111111111111,\"#46039f\"],[0.2222222222222222,\"#7201a8\"],[0.3333333333333333,\"#9c179e\"],[0.4444444444444444,\"#bd3786\"],[0.5555555555555556,\"#d8576b\"],[0.6666666666666666,\"#ed7953\"],[0.7777777777777778,\"#fb9f3a\"],[0.8888888888888888,\"#fdca26\"],[1.0,\"#f0f921\"]],\"type\":\"histogram2dcontour\"}],\"mesh3d\":[{\"colorbar\":{\"outlinewidth\":0,\"ticks\":\"\"},\"type\":\"mesh3d\"}],\"parcoords\":[{\"line\":{\"colorbar\":{\"outlinewidth\":0,\"ticks\":\"\"}},\"type\":\"parcoords\"}],\"pie\":[{\"automargin\":true,\"type\":\"pie\"}],\"scatter\":[{\"marker\":{\"colorbar\":{\"outlinewidth\":0,\"ticks\":\"\"}},\"type\":\"scatter\"}],\"scatter3d\":[{\"line\":{\"colorbar\":{\"outlinewidth\":0,\"ticks\":\"\"}},\"marker\":{\"colorbar\":{\"outlinewidth\":0,\"ticks\":\"\"}},\"type\":\"scatter3d\"}],\"scattercarpet\":[{\"marker\":{\"colorbar\":{\"outlinewidth\":0,\"ticks\":\"\"}},\"type\":\"scattercarpet\"}],\"scattergeo\":[{\"marker\":{\"colorbar\":{\"outlinewidth\":0,\"ticks\":\"\"}},\"type\":\"scattergeo\"}],\"scattergl\":[{\"marker\":{\"colorbar\":{\"outlinewidth\":0,\"ticks\":\"\"}},\"type\":\"scattergl\"}],\"scattermapbox\":[{\"marker\":{\"colorbar\":{\"outlinewidth\":0,\"ticks\":\"\"}},\"type\":\"scattermapbox\"}],\"scatterpolar\":[{\"marker\":{\"colorbar\":{\"outlinewidth\":0,\"ticks\":\"\"}},\"type\":\"scatterpolar\"}],\"scatterpolargl\":[{\"marker\":{\"colorbar\":{\"outlinewidth\":0,\"ticks\":\"\"}},\"type\":\"scatterpolargl\"}],\"scatterternary\":[{\"marker\":{\"colorbar\":{\"outlinewidth\":0,\"ticks\":\"\"}},\"type\":\"scatterternary\"}],\"surface\":[{\"colorbar\":{\"outlinewidth\":0,\"ticks\":\"\"},\"colorscale\":[[0.0,\"#0d0887\"],[0.1111111111111111,\"#46039f\"],[0.2222222222222222,\"#7201a8\"],[0.3333333333333333,\"#9c179e\"],[0.4444444444444444,\"#bd3786\"],[0.5555555555555556,\"#d8576b\"],[0.6666666666666666,\"#ed7953\"],[0.7777777777777778,\"#fb9f3a\"],[0.8888888888888888,\"#fdca26\"],[1.0,\"#f0f921\"]],\"type\":\"surface\"}],\"table\":[{\"cells\":{\"fill\":{\"color\":\"#EBF0F8\"},\"line\":{\"color\":\"white\"}},\"header\":{\"fill\":{\"color\":\"#C8D4E3\"},\"line\":{\"color\":\"white\"}},\"type\":\"table\"}]},\"layout\":{\"annotationdefaults\":{\"arrowcolor\":\"#2a3f5f\",\"arrowhead\":0,\"arrowwidth\":1},\"autotypenumbers\":\"strict\",\"coloraxis\":{\"colorbar\":{\"outlinewidth\":0,\"ticks\":\"\"}},\"colorscale\":{\"diverging\":[[0,\"#8e0152\"],[0.1,\"#c51b7d\"],[0.2,\"#de77ae\"],[0.3,\"#f1b6da\"],[0.4,\"#fde0ef\"],[0.5,\"#f7f7f7\"],[0.6,\"#e6f5d0\"],[0.7,\"#b8e186\"],[0.8,\"#7fbc41\"],[0.9,\"#4d9221\"],[1,\"#276419\"]],\"sequential\":[[0.0,\"#0d0887\"],[0.1111111111111111,\"#46039f\"],[0.2222222222222222,\"#7201a8\"],[0.3333333333333333,\"#9c179e\"],[0.4444444444444444,\"#bd3786\"],[0.5555555555555556,\"#d8576b\"],[0.6666666666666666,\"#ed7953\"],[0.7777777777777778,\"#fb9f3a\"],[0.8888888888888888,\"#fdca26\"],[1.0,\"#f0f921\"]],\"sequentialminus\":[[0.0,\"#0d0887\"],[0.1111111111111111,\"#46039f\"],[0.2222222222222222,\"#7201a8\"],[0.3333333333333333,\"#9c179e\"],[0.4444444444444444,\"#bd3786\"],[0.5555555555555556,\"#d8576b\"],[0.6666666666666666,\"#ed7953\"],[0.7777777777777778,\"#fb9f3a\"],[0.8888888888888888,\"#fdca26\"],[1.0,\"#f0f921\"]]},\"colorway\":[\"#636efa\",\"#EF553B\",\"#00cc96\",\"#ab63fa\",\"#FFA15A\",\"#19d3f3\",\"#FF6692\",\"#B6E880\",\"#FF97FF\",\"#FECB52\"],\"font\":{\"color\":\"#2a3f5f\"},\"geo\":{\"bgcolor\":\"white\",\"lakecolor\":\"white\",\"landcolor\":\"#E5ECF6\",\"showlakes\":true,\"showland\":true,\"subunitcolor\":\"white\"},\"hoverlabel\":{\"align\":\"left\"},\"hovermode\":\"closest\",\"mapbox\":{\"style\":\"light\"},\"paper_bgcolor\":\"white\",\"plot_bgcolor\":\"#E5ECF6\",\"polar\":{\"angularaxis\":{\"gridcolor\":\"white\",\"linecolor\":\"white\",\"ticks\":\"\"},\"bgcolor\":\"#E5ECF6\",\"radialaxis\":{\"gridcolor\":\"white\",\"linecolor\":\"white\",\"ticks\":\"\"}},\"scene\":{\"xaxis\":{\"backgroundcolor\":\"#E5ECF6\",\"gridcolor\":\"white\",\"gridwidth\":2,\"linecolor\":\"white\",\"showbackground\":true,\"ticks\":\"\",\"zerolinecolor\":\"white\"},\"yaxis\":{\"backgroundcolor\":\"#E5ECF6\",\"gridcolor\":\"white\",\"gridwidth\":2,\"linecolor\":\"white\",\"showbackground\":true,\"ticks\":\"\",\"zerolinecolor\":\"white\"},\"zaxis\":{\"backgroundcolor\":\"#E5ECF6\",\"gridcolor\":\"white\",\"gridwidth\":2,\"linecolor\":\"white\",\"showbackground\":true,\"ticks\":\"\",\"zerolinecolor\":\"white\"}},\"shapedefaults\":{\"line\":{\"color\":\"#2a3f5f\"}},\"ternary\":{\"aaxis\":{\"gridcolor\":\"white\",\"linecolor\":\"white\",\"ticks\":\"\"},\"baxis\":{\"gridcolor\":\"white\",\"linecolor\":\"white\",\"ticks\":\"\"},\"bgcolor\":\"#E5ECF6\",\"caxis\":{\"gridcolor\":\"white\",\"linecolor\":\"white\",\"ticks\":\"\"}},\"title\":{\"x\":0.05},\"xaxis\":{\"automargin\":true,\"gridcolor\":\"white\",\"linecolor\":\"white\",\"ticks\":\"\",\"title\":{\"standoff\":15},\"zerolinecolor\":\"white\",\"zerolinewidth\":2},\"yaxis\":{\"automargin\":true,\"gridcolor\":\"white\",\"linecolor\":\"white\",\"ticks\":\"\",\"title\":{\"standoff\":15},\"zerolinecolor\":\"white\",\"zerolinewidth\":2}}},\"title\":{\"text\":\"Top 20 bigrams in the question text after removing stop words and lemmatization\"}},                        {\"responsive\": true}                    ).then(function(){\n",
       "                            \n",
       "var gd = document.getElementById('b731a51a-1382-421a-aa69-5cdad631e6b9');\n",
       "var x = new MutationObserver(function (mutations, observer) {{\n",
       "        var display = window.getComputedStyle(gd).display;\n",
       "        if (!display || display === 'none') {{\n",
       "            console.log([gd, 'removed!']);\n",
       "            Plotly.purge(gd);\n",
       "            observer.disconnect();\n",
       "        }}\n",
       "}});\n",
       "\n",
       "// Listen for the removal of the full notebook cells\n",
       "var notebookContainer = gd.closest('#notebook-container');\n",
       "if (notebookContainer) {{\n",
       "    x.observe(notebookContainer, {childList: true});\n",
       "}}\n",
       "\n",
       "// Listen for the clearing of the current output cell\n",
       "var outputEl = gd.closest('.output');\n",
       "if (outputEl) {{\n",
       "    x.observe(outputEl, {childList: true});\n",
       "}}\n",
       "\n",
       "                        })                };                });            </script>        </div>"
      ]
     },
     "metadata": {},
     "output_type": "display_data"
    }
   ],
   "source": [
    "def get_top_n_bigram(corpus, n=None):\n",
    "    vec = CountVectorizer(ngram_range=(2, 2), stop_words='english').fit(corpus)\n",
    "    bag_of_words = vec.transform(corpus)\n",
    "    sum_words = bag_of_words.sum(axis=0) \n",
    "    words_freq = [(word, sum_words[0, idx]) for word, idx in vec.vocabulary_.items()]\n",
    "    words_freq =sorted(words_freq, key = lambda x: x[1], reverse=True)\n",
    "    return words_freq[:n]\n",
    "\n",
    "common_words = get_top_n_bigram(data['lemma'], 20)\n",
    "df3 = pd.DataFrame(common_words, columns = ['bigram' , 'count'])\n",
    "\n",
    "fig = go.Figure([go.Bar(x=df3['bigram'], y=df3['count'])])\n",
    "fig.update_layout(title=go.layout.Title(text=\"Top 20 bigrams in the question text after removing stop words and lemmatization\"))\n",
    "fig.show()"
   ]
  },
  {
   "cell_type": "code",
   "execution_count": 196,
   "id": "5058cb57",
   "metadata": {},
   "outputs": [],
   "source": [
    "example = positive_reviews['lemma']\n",
    "example2= negative_reviews['lemma']"
   ]
  },
  {
   "cell_type": "code",
   "execution_count": 197,
   "id": "e62e48a4",
   "metadata": {},
   "outputs": [
    {
     "data": {
      "text/plain": [
       "(4278, 5750)"
      ]
     },
     "execution_count": 197,
     "metadata": {},
     "output_type": "execute_result"
    }
   ],
   "source": [
    "vectorizer = CountVectorizer()\n",
    "doc_word = vectorizer.fit_transform(positive_reviews['lemma'])\n",
    "doc_word.shape"
   ]
  },
  {
   "cell_type": "code",
   "execution_count": 198,
   "id": "286f8411",
   "metadata": {},
   "outputs": [],
   "source": [
    "def display_topics(model, feature_names, no_top_words, topic_names=None):\n",
    "    for ix, topic in enumerate(model.components_):\n",
    "        if not topic_names or not topic_names[ix]:\n",
    "            print(\"\\nTopic \", ix)\n",
    "        else:\n",
    "            print(\"\\nTopic: '\",topic_names[ix],\"'\")\n",
    "        print(\", \".join([feature_names[i]\n",
    "                        for i in topic.argsort()[:-no_top_words - 1:-1]]))"
   ]
  },
  {
   "cell_type": "markdown",
   "id": "761ee0a5",
   "metadata": {},
   "source": [
    "# NMF Topicing"
   ]
  },
  {
   "cell_type": "markdown",
   "id": "1ee8aa2b",
   "metadata": {},
   "source": [
    "##### Positive Reviews"
   ]
  },
  {
   "cell_type": "code",
   "execution_count": 153,
   "id": "ce95f6a5",
   "metadata": {},
   "outputs": [],
   "source": [
    "nmf_model = NMF(5)\n",
    "doc_topic = nmf_model.fit_transform(doc_word)"
   ]
  },
  {
   "cell_type": "code",
   "execution_count": 154,
   "id": "05b80e95",
   "metadata": {
    "scrolled": true
   },
   "outputs": [
    {
     "name": "stdout",
     "output_type": "stream",
     "text": [
      "\n",
      "Topic  0\n",
      "like, really, update, add, good, see, make, change, also, think\n",
      "\n",
      "Topic  1\n",
      "please, back, get, fix, time, update, phone, problem, go, camera\n",
      "\n",
      "Topic  2\n",
      "friend, love, filter, use, way, great, fun, really, chat, make\n",
      "\n",
      "Topic  3\n",
      "story, see, post, video, private, view, go, watch, fix, posted\n",
      "\n",
      "Topic  4\n",
      "would, mode, dark, could, think, make, love, change, great, feature\n"
     ]
    }
   ],
   "source": [
    "display_topics(nmf_model, vectorizer.get_feature_names(), 10) "
   ]
  },
  {
   "cell_type": "code",
   "execution_count": 155,
   "id": "5d1d6a24",
   "metadata": {},
   "outputs": [
    {
     "data": {
      "text/html": [
       "<div>\n",
       "<style scoped>\n",
       "    .dataframe tbody tr th:only-of-type {\n",
       "        vertical-align: middle;\n",
       "    }\n",
       "\n",
       "    .dataframe tbody tr th {\n",
       "        vertical-align: top;\n",
       "    }\n",
       "\n",
       "    .dataframe thead th {\n",
       "        text-align: right;\n",
       "    }\n",
       "</style>\n",
       "<table border=\"1\" class=\"dataframe\">\n",
       "  <thead>\n",
       "    <tr style=\"text-align: right;\">\n",
       "      <th></th>\n",
       "      <th>Time _proplem</th>\n",
       "      <th>Account</th>\n",
       "      <th>App</th>\n",
       "      <th>Snap</th>\n",
       "      <th>People</th>\n",
       "    </tr>\n",
       "    <tr>\n",
       "      <th>lemma</th>\n",
       "      <th></th>\n",
       "      <th></th>\n",
       "      <th></th>\n",
       "      <th></th>\n",
       "      <th></th>\n",
       "    </tr>\n",
       "  </thead>\n",
       "  <tbody>\n",
       "    <tr>\n",
       "      <th>part quite enjoy probably used phone really convenient messaging especially texting work based various location like text message go school building message think quite useful fun use however lately experiencing problem loading time past maybe two month taking good second load text got another three save text various wi fi connection well using data matter change wi fi data problem get fixed know thats issue recently found deleting thing take storage phone help performance however time worked think need look problem since main communication apps time get annoyed taking long load use text message instead wish didnt resort hope fix problem soon</th>\n",
       "      <td>0.12674</td>\n",
       "      <td>0.56328</td>\n",
       "      <td>0.08834</td>\n",
       "      <td>0.00000</td>\n",
       "      <td>0.02239</td>\n",
       "    </tr>\n",
       "    <tr>\n",
       "      <th>really love long using say difficulty also request new update many going like idea maybe saving chat taken phone get checked friend ykand save every little chat send gc every time phone get checked since still child ofci get trouble grounded thing sendu wan na know anyways thats request also thinking give dark mode heard thinking dark mode heard long ago also thinking take call rlly know like call jus dumb way called call facetime device us call opinion like call idky also request maybe send chat give notif person said bc sometimes like opening nobody text oksnap great thing rlly please thing might said might like someone year wanted give opinion maybe idea new updat</th>\n",
       "      <td>0.57381</td>\n",
       "      <td>0.37712</td>\n",
       "      <td>0.26079</td>\n",
       "      <td>0.00000</td>\n",
       "      <td>0.10490</td>\n",
       "    </tr>\n",
       "    <tr>\n",
       "      <th>along many others suddenly started malfunctioning send streak itll say sent check later say streak day sent make seem though havent sent received anything though know cause said delivered said snap disappeared reappeared wouldnt let open also deleted video story day hasnt letting view certain story like try itll glitch onto another story seems happen video story tried restarting phone tried logging back account attempting wouldnt let back like would try open would immediately crash talked friend several issue well tried deleting reinstalling taking forever reinstall like longer usual idk whats going please fix soon</th>\n",
       "      <td>0.24181</td>\n",
       "      <td>0.36935</td>\n",
       "      <td>0.00000</td>\n",
       "      <td>0.47203</td>\n",
       "      <td>0.16103</td>\n",
       "    </tr>\n",
       "    <tr>\n",
       "      <th>recently got current update well many know necessarily like change flow bit much feature exist anymore like able access map better clicking however like swipe left instead opening conversation go map many u would rather able swipe conversation like used understand update likely lot work think would nice could get option decide swiping left open chat map may next update add feature setting pick whether swiping left open map chat sure many would appreciate although understand would take lot work either way amazing really small problem feel many would appreciate choice still putting five five star though despite update still love</th>\n",
       "      <td>0.46275</td>\n",
       "      <td>0.24433</td>\n",
       "      <td>0.03611</td>\n",
       "      <td>0.00000</td>\n",
       "      <td>0.62355</td>\n",
       "    </tr>\n",
       "    <tr>\n",
       "      <th>say confidently friend spend time brought many know together way never seen capable another far favorite used easy use smooth appealing layout criticize simply make suggestion enjoy watching show tab often find losing show watching noticed thumbnail change go story make hard find clicked first place particular keep finding thinking wow enjoyed show remember channel though watched minute ago thus would propose sort history feature page would like personal story show tab possibly keep hidden spot need often thing feature like would help find subscribe show enjoy thank reading</th>\n",
       "      <td>0.21444</td>\n",
       "      <td>0.04845</td>\n",
       "      <td>0.10398</td>\n",
       "      <td>0.27731</td>\n",
       "      <td>0.34421</td>\n",
       "    </tr>\n",
       "    <tr>\n",
       "      <th>...</th>\n",
       "      <td>...</td>\n",
       "      <td>...</td>\n",
       "      <td>...</td>\n",
       "      <td>...</td>\n",
       "      <td>...</td>\n",
       "    </tr>\n",
       "    <tr>\n",
       "      <th>love much update chat option way people story became bigger personal snapchats inconvenient see full picture screenshot there full bar distracting</th>\n",
       "      <td>0.01326</td>\n",
       "      <td>0.00938</td>\n",
       "      <td>0.11170</td>\n",
       "      <td>0.12619</td>\n",
       "      <td>0.01071</td>\n",
       "    </tr>\n",
       "    <tr>\n",
       "      <th>right couple bug good part would love got changed making put video eye longer second</th>\n",
       "      <td>0.00000</td>\n",
       "      <td>0.02970</td>\n",
       "      <td>0.04855</td>\n",
       "      <td>0.00842</td>\n",
       "      <td>0.10724</td>\n",
       "    </tr>\n",
       "    <tr>\n",
       "      <th>like great story friend post show already seen repeat go back old story irritates hope fix already reported hope get fixed really fast</th>\n",
       "      <td>0.09581</td>\n",
       "      <td>0.07560</td>\n",
       "      <td>0.06246</td>\n",
       "      <td>0.23623</td>\n",
       "      <td>0.00000</td>\n",
       "    </tr>\n",
       "    <tr>\n",
       "      <th>every time upload photo video story upload later say error problem uploading yall know say red something failed post story well keep saying every since updated please fix still great tho</th>\n",
       "      <td>0.00000</td>\n",
       "      <td>0.19297</td>\n",
       "      <td>0.00000</td>\n",
       "      <td>0.25918</td>\n",
       "      <td>0.00229</td>\n",
       "    </tr>\n",
       "    <tr>\n",
       "      <th>love since update upload snap story get notification someone typing itll show didnt open chat couple minute later itll show sent couple minute</th>\n",
       "      <td>0.00349</td>\n",
       "      <td>0.12100</td>\n",
       "      <td>0.05361</td>\n",
       "      <td>0.11285</td>\n",
       "      <td>0.00000</td>\n",
       "    </tr>\n",
       "  </tbody>\n",
       "</table>\n",
       "<p>4278 rows × 5 columns</p>\n",
       "</div>"
      ],
      "text/plain": [
       "                                                    Time _proplem  Account  \\\n",
       "lemma                                                                        \n",
       "part quite enjoy probably used phone really con...        0.12674  0.56328   \n",
       "really love long using say difficulty also requ...        0.57381  0.37712   \n",
       "along many others suddenly started malfunctioni...        0.24181  0.36935   \n",
       "recently got current update well many know nece...        0.46275  0.24433   \n",
       "say confidently friend spend time brought many ...        0.21444  0.04845   \n",
       "...                                                           ...      ...   \n",
       "love much update chat option way people story b...        0.01326  0.00938   \n",
       "right couple bug good part would love got chang...        0.00000  0.02970   \n",
       "like great story friend post show already seen ...        0.09581  0.07560   \n",
       "every time upload photo video story upload late...        0.00000  0.19297   \n",
       "love since update upload snap story get notific...        0.00349  0.12100   \n",
       "\n",
       "                                                        App     Snap   People  \n",
       "lemma                                                                          \n",
       "part quite enjoy probably used phone really con...  0.08834  0.00000  0.02239  \n",
       "really love long using say difficulty also requ...  0.26079  0.00000  0.10490  \n",
       "along many others suddenly started malfunctioni...  0.00000  0.47203  0.16103  \n",
       "recently got current update well many know nece...  0.03611  0.00000  0.62355  \n",
       "say confidently friend spend time brought many ...  0.10398  0.27731  0.34421  \n",
       "...                                                     ...      ...      ...  \n",
       "love much update chat option way people story b...  0.11170  0.12619  0.01071  \n",
       "right couple bug good part would love got chang...  0.04855  0.00842  0.10724  \n",
       "like great story friend post show already seen ...  0.06246  0.23623  0.00000  \n",
       "every time upload photo video story upload late...  0.00000  0.25918  0.00229  \n",
       "love since update upload snap story get notific...  0.05361  0.11285  0.00000  \n",
       "\n",
       "[4278 rows x 5 columns]"
      ]
     },
     "execution_count": 155,
     "metadata": {},
     "output_type": "execute_result"
    }
   ],
   "source": [
    "NMF_df = pd.DataFrame(doc_topic.round(5),\n",
    "             index = example,\n",
    "             columns = [\"Time _proplem\",\"Account\",'App','Snap','People'])\n",
    "NMF_df"
   ]
  },
  {
   "cell_type": "markdown",
   "id": "bcdac57a",
   "metadata": {},
   "source": [
    "##### Negative Reviews"
   ]
  },
  {
   "cell_type": "code",
   "execution_count": 156,
   "id": "49435b98",
   "metadata": {},
   "outputs": [
    {
     "data": {
      "text/plain": [
       "(3111, 6469)"
      ]
     },
     "execution_count": 156,
     "metadata": {},
     "output_type": "execute_result"
    }
   ],
   "source": [
    "vectorizer2 = CountVectorizer()\n",
    "doc_word2 = vectorizer2.fit_transform(negative_reviews['lemma'])\n",
    "doc_word2.shape"
   ]
  },
  {
   "cell_type": "code",
   "execution_count": 157,
   "id": "1f77d5ca",
   "metadata": {},
   "outputs": [],
   "source": [
    "nmf_model2 = NMF(5)\n",
    "doc_topic2= nmf_model2.fit_transform(doc_word2)"
   ]
  },
  {
   "cell_type": "code",
   "execution_count": 158,
   "id": "2829d870",
   "metadata": {},
   "outputs": [
    {
     "name": "stdout",
     "output_type": "stream",
     "text": [
      "\n",
      "Topic  0\n",
      "time, get, fix, send, problem, say, back, message, snap, phone\n",
      "\n",
      "Topic  1\n",
      "account, locked, get, back, email, new, reason, got, permanently, support\n",
      "\n",
      "Topic  2\n",
      "update, like, new, back, chat, map, make, swipe, change, look\n",
      "\n",
      "Topic  3\n",
      "story, ad, see, friend, like, post, video, page, watch, make\n",
      "\n",
      "Topic  4\n",
      "camera, phone, picture, iphone, take, quality, photo, look, use, issue\n"
     ]
    }
   ],
   "source": [
    "display_topics(nmf_model2, vectorizer2.get_feature_names(), 10) "
   ]
  },
  {
   "cell_type": "code",
   "execution_count": 159,
   "id": "11cf2a73",
   "metadata": {},
   "outputs": [
    {
     "data": {
      "text/html": [
       "<div>\n",
       "<style scoped>\n",
       "    .dataframe tbody tr th:only-of-type {\n",
       "        vertical-align: middle;\n",
       "    }\n",
       "\n",
       "    .dataframe tbody tr th {\n",
       "        vertical-align: top;\n",
       "    }\n",
       "\n",
       "    .dataframe thead th {\n",
       "        text-align: right;\n",
       "    }\n",
       "</style>\n",
       "<table border=\"1\" class=\"dataframe\">\n",
       "  <thead>\n",
       "    <tr style=\"text-align: right;\">\n",
       "      <th></th>\n",
       "      <th>Service</th>\n",
       "      <th>LockedAccount</th>\n",
       "      <th>UpdateApp</th>\n",
       "      <th>Timing</th>\n",
       "      <th>CameraQuality</th>\n",
       "    </tr>\n",
       "    <tr>\n",
       "      <th>lemma</th>\n",
       "      <th></th>\n",
       "      <th></th>\n",
       "      <th></th>\n",
       "      <th></th>\n",
       "      <th></th>\n",
       "    </tr>\n",
       "  </thead>\n",
       "  <tbody>\n",
       "    <tr>\n",
       "      <th>super frustrating middle sending logged tried logging said temporarily locked account hour reached support twitter multiple time sent multiple request support website an never send confirmation case ticket number request think theyre reading anything anymore many experiencing issue look support twitter reply customer service freaking terrible using last resort keep sending tweet account locked theyre helping unlock legit account sent link unlock legit account working basically account still locked get unlock tell unlock didnt break regulation thing would trigger lockdown account can not otherwise communicate number social medium way contact photo still memory downloading data isnt working either really need get account back</th>\n",
       "      <td>0.11426</td>\n",
       "      <td>0.81709</td>\n",
       "      <td>0.00000</td>\n",
       "      <td>0.00000</td>\n",
       "      <td>0.00000</td>\n",
       "    </tr>\n",
       "    <tr>\n",
       "      <th>unsatisfied new update pretty sure others say year worst update far format completely different way complicated use able open message sliding finger across person name slide bring u map leaving u tap message instead able slide benefit sliding able slide able peak message fully open someone bothering respond youre ghosting someone able read message without knowing update using year get use tapping instead sliding also preferred map didnt page like previously pinch finger camera access map final problem bottom icon wasnt clear purpose thing make look androidy unprofessional also suggest allowing u change usernames arent stuck stupid immature one came kid besides perfect new update didnt wanted phone automatically updated plzz go back previous version</th>\n",
       "      <td>0.12025</td>\n",
       "      <td>0.00000</td>\n",
       "      <td>0.81141</td>\n",
       "      <td>0.00000</td>\n",
       "      <td>0.10825</td>\n",
       "    </tr>\n",
       "    <tr>\n",
       "      <th>got hacked month ago know isnt entirely fault went every step told still havent helped keep saying email isnt associated account make sense reason knew someone trying hack got email customer service phone number everytime try reach get exact message though write help box keep getting message keep asking contact different way help repeatedly get told private photo viewed someone know nothing deactivate account unpleased company many privacy issue customer service issue need fixed prove phone number connected fact make new account confirm picture saved deleted take legal action someone could steal photo phone number email address talk without knowing give personal information hasnt handled properly could give zero star would super careful downloading privacy breached</th>\n",
       "      <td>0.19794</td>\n",
       "      <td>0.42104</td>\n",
       "      <td>0.00000</td>\n",
       "      <td>0.00530</td>\n",
       "      <td>0.33244</td>\n",
       "    </tr>\n",
       "    <tr>\n",
       "      <th>first account locked account since elementary many memory picture friend sudden get locked didnt tell reason contacted never able log account month made new account account literally new barely friend next know get locked unlocked using email hour later get locked account permanently deleted apparently suspicion account barely made hour account stopped using cause frustrated locking account yesterday made new account keep touch friend another state since missed using hour setting account stuff get locked locked time hour ago permanently locked contacted sent bot respond account got locked none reason nothing wasnt switching device wasnt hacking anything like wasnt adding without email verified proof email number verified reason lock account</th>\n",
       "      <td>0.00000</td>\n",
       "      <td>1.57822</td>\n",
       "      <td>0.00000</td>\n",
       "      <td>0.00750</td>\n",
       "      <td>0.00000</td>\n",
       "    </tr>\n",
       "    <tr>\n",
       "      <th>account wanted create new lasted three day new account first locked minute ok logged back everything fine minute didnt pas account permanently locked confused since wasnt anything wrong harmless decided make another account morning everything fine got locked didnt last two hour logged back talking sudden kick account really frustrated wasnt absolutely nothing fun talking friend went website realized account permanently locked gave point would like know happening getting angry might well delete since make account locked getting irritated would like explanation fact guy personal support email contact guy instead using website pretty difficult would much easier guy email anyways would like know account getting locked without lasting whole day nothing wrong still question happening</th>\n",
       "      <td>0.00906</td>\n",
       "      <td>1.06280</td>\n",
       "      <td>0.20058</td>\n",
       "      <td>0.03372</td>\n",
       "      <td>0.00000</td>\n",
       "    </tr>\n",
       "    <tr>\n",
       "      <th>...</th>\n",
       "      <td>...</td>\n",
       "      <td>...</td>\n",
       "      <td>...</td>\n",
       "      <td>...</td>\n",
       "      <td>...</td>\n",
       "    </tr>\n",
       "    <tr>\n",
       "      <th>old picture realized could change setting everything save camera roll try save save date taken show sc instead keep date save frustrating please make save original date able like already</th>\n",
       "      <td>0.00549</td>\n",
       "      <td>0.00250</td>\n",
       "      <td>0.08162</td>\n",
       "      <td>0.05838</td>\n",
       "      <td>0.19197</td>\n",
       "    </tr>\n",
       "    <tr>\n",
       "      <th>basically every time open message take hour load first thought wifi lagging tried data moved place different internet connection happened also say already responded message left opened get notification updated see issue wasnt happened uninstalled twice issue happened phone since bought internet either could fixed thatd nice love issue</th>\n",
       "      <td>0.26199</td>\n",
       "      <td>0.00000</td>\n",
       "      <td>0.00000</td>\n",
       "      <td>0.00000</td>\n",
       "      <td>0.07951</td>\n",
       "    </tr>\n",
       "    <tr>\n",
       "      <th>give crappy star would first thing first crash least time day sometimes staff never responds ur suggestion fixing bug issue there point reporting problem staff never answer would care le ur opinion crashed time row usually never write review exception download crappy</th>\n",
       "      <td>0.18044</td>\n",
       "      <td>0.00000</td>\n",
       "      <td>0.00000</td>\n",
       "      <td>0.01904</td>\n",
       "      <td>0.00000</td>\n",
       "    </tr>\n",
       "    <tr>\n",
       "      <th>used love using hardly ever camera quality x absolutely horrible back camera tolerable front camera unusable picture zoomed much always grainy looking issue apparently aware care enough fix review probably change mind worth shot guess please fix issue miss fun</th>\n",
       "      <td>0.01890</td>\n",
       "      <td>0.00000</td>\n",
       "      <td>0.01407</td>\n",
       "      <td>0.00000</td>\n",
       "      <td>0.49245</td>\n",
       "    </tr>\n",
       "    <tr>\n",
       "      <th>well deleted inappropriate content research also noticed lot kid nude two also noticed lot kid joy personally think fit value protecting eye wish mor appropriate social medium definitely good thing though</th>\n",
       "      <td>0.03231</td>\n",
       "      <td>0.00125</td>\n",
       "      <td>0.02861</td>\n",
       "      <td>0.04735</td>\n",
       "      <td>0.01810</td>\n",
       "    </tr>\n",
       "  </tbody>\n",
       "</table>\n",
       "<p>3111 rows × 5 columns</p>\n",
       "</div>"
      ],
      "text/plain": [
       "                                                    Service  LockedAccount  \\\n",
       "lemma                                                                        \n",
       "super frustrating middle sending logged tried l...  0.11426        0.81709   \n",
       "unsatisfied new update pretty sure others say y...  0.12025        0.00000   \n",
       "got hacked month ago know isnt entirely fault w...  0.19794        0.42104   \n",
       "first account locked account since elementary m...  0.00000        1.57822   \n",
       "account wanted create new lasted three day new ...  0.00906        1.06280   \n",
       "...                                                     ...            ...   \n",
       "old picture realized could change setting every...  0.00549        0.00250   \n",
       "basically every time open message take hour loa...  0.26199        0.00000   \n",
       "give crappy star would first thing first crash ...  0.18044        0.00000   \n",
       "used love using hardly ever camera quality x ab...  0.01890        0.00000   \n",
       "well deleted inappropriate content research als...  0.03231        0.00125   \n",
       "\n",
       "                                                    UpdateApp   Timing  \\\n",
       "lemma                                                                    \n",
       "super frustrating middle sending logged tried l...    0.00000  0.00000   \n",
       "unsatisfied new update pretty sure others say y...    0.81141  0.00000   \n",
       "got hacked month ago know isnt entirely fault w...    0.00000  0.00530   \n",
       "first account locked account since elementary m...    0.00000  0.00750   \n",
       "account wanted create new lasted three day new ...    0.20058  0.03372   \n",
       "...                                                       ...      ...   \n",
       "old picture realized could change setting every...    0.08162  0.05838   \n",
       "basically every time open message take hour loa...    0.00000  0.00000   \n",
       "give crappy star would first thing first crash ...    0.00000  0.01904   \n",
       "used love using hardly ever camera quality x ab...    0.01407  0.00000   \n",
       "well deleted inappropriate content research als...    0.02861  0.04735   \n",
       "\n",
       "                                                    CameraQuality  \n",
       "lemma                                                              \n",
       "super frustrating middle sending logged tried l...        0.00000  \n",
       "unsatisfied new update pretty sure others say y...        0.10825  \n",
       "got hacked month ago know isnt entirely fault w...        0.33244  \n",
       "first account locked account since elementary m...        0.00000  \n",
       "account wanted create new lasted three day new ...        0.00000  \n",
       "...                                                           ...  \n",
       "old picture realized could change setting every...        0.19197  \n",
       "basically every time open message take hour loa...        0.07951  \n",
       "give crappy star would first thing first crash ...        0.00000  \n",
       "used love using hardly ever camera quality x ab...        0.49245  \n",
       "well deleted inappropriate content research als...        0.01810  \n",
       "\n",
       "[3111 rows x 5 columns]"
      ]
     },
     "execution_count": 159,
     "metadata": {},
     "output_type": "execute_result"
    }
   ],
   "source": [
    "NMF_df2 = pd.DataFrame(doc_topic2.round(5),\n",
    "             index = example2,\n",
    "             columns = [\"Service\",\"LockedAccount\",'UpdateApp','Timing','CameraQuality'])\n",
    "NMF_df2"
   ]
  },
  {
   "cell_type": "markdown",
   "id": "4a9f9b64",
   "metadata": {},
   "source": [
    "# Corecx Topicing"
   ]
  },
  {
   "cell_type": "code",
   "execution_count": 160,
   "id": "b5c68748",
   "metadata": {},
   "outputs": [],
   "source": [
    "vectorizer = CountVectorizer(ngram_range=(1,2),max_features=2000,\n",
    "                            token_pattern='\\\\b[a-z][a-z]+\\\\b',\n",
    "                            binary=True)\n",
    "doc_word = vectorizer.fit_transform(positive_reviews['lemma'])\n",
    "words = list(np.asarray(vectorizer.get_feature_names()))"
   ]
  },
  {
   "cell_type": "code",
   "execution_count": 161,
   "id": "c58b666d",
   "metadata": {},
   "outputs": [
    {
     "name": "stdout",
     "output_type": "stream",
     "text": [
      "Requirement already satisfied: corextopic in ./opt/anaconda3/lib/python3.8/site-packages (1.1)\n",
      "Note: you may need to restart the kernel to use updated packages.\n"
     ]
    }
   ],
   "source": [
    "pip install corextopic"
   ]
  },
  {
   "cell_type": "code",
   "execution_count": 162,
   "id": "41044e9f",
   "metadata": {},
   "outputs": [],
   "source": [
    "from corextopic import corextopic as ct"
   ]
  },
  {
   "cell_type": "code",
   "execution_count": 163,
   "id": "23c7cd7e",
   "metadata": {},
   "outputs": [
    {
     "name": "stdout",
     "output_type": "stream",
     "text": [
      "0: fix,tried,please fix,working,wifi,try,problem,say,bug,open\n",
      "1: dark,dark mode,mode,friend,fun,family,communicate,social medium,filter,friend family\n",
      "2: would,could,feature,like,change,add,would love,better,wish,idea\n"
     ]
    }
   ],
   "source": [
    "topic_model = ct.Corex(n_hidden=3, words=words, seed=1)\n",
    "topic_model.fit(doc_word, words=words, docs=positive_reviews)\n",
    "topics = topic_model.get_topics()\n",
    "for n,topic in enumerate(topics):\n",
    "    topic_words,_,_ = zip(*topic)\n",
    "    print('{}: '.format(n) + ','.join(topic_words))"
   ]
  },
  {
   "cell_type": "code",
   "execution_count": 164,
   "id": "077694cb",
   "metadata": {},
   "outputs": [],
   "source": [
    "import spacy\n",
    "nlp = spacy.load('en_core_web_sm')"
   ]
  },
  {
   "cell_type": "code",
   "execution_count": 165,
   "id": "6afebc72",
   "metadata": {},
   "outputs": [],
   "source": [
    "positive_reviews['spacy_doc'] = list(nlp.pipe(positive_reviews.lemma))"
   ]
  },
  {
   "cell_type": "code",
   "execution_count": 166,
   "id": "1ef170c2",
   "metadata": {},
   "outputs": [],
   "source": [
    "negative_reviews['spacy_doc'] = list(nlp.pipe(negative_reviews.lemma))"
   ]
  },
  {
   "cell_type": "code",
   "execution_count": 167,
   "id": "e2519b64",
   "metadata": {},
   "outputs": [
    {
     "data": {
      "text/html": [
       "<div>\n",
       "<style scoped>\n",
       "    .dataframe tbody tr th:only-of-type {\n",
       "        vertical-align: middle;\n",
       "    }\n",
       "\n",
       "    .dataframe tbody tr th {\n",
       "        vertical-align: top;\n",
       "    }\n",
       "\n",
       "    .dataframe thead th {\n",
       "        text-align: right;\n",
       "    }\n",
       "</style>\n",
       "<table border=\"1\" class=\"dataframe\">\n",
       "  <thead>\n",
       "    <tr style=\"text-align: right;\">\n",
       "      <th></th>\n",
       "      <th>sentiment</th>\n",
       "      <th>review</th>\n",
       "      <th>lemma</th>\n",
       "      <th>spacy_doc</th>\n",
       "    </tr>\n",
       "  </thead>\n",
       "  <tbody>\n",
       "    <tr>\n",
       "      <th>0</th>\n",
       "      <td>good</td>\n",
       "      <td>For the most part I quite enjoy Snapchat it’s ...</td>\n",
       "      <td>part quite enjoy probably used phone really co...</td>\n",
       "      <td>(part, quite, enjoy, probably, used, phone, re...</td>\n",
       "    </tr>\n",
       "    <tr>\n",
       "      <th>3</th>\n",
       "      <td>good</td>\n",
       "      <td>I really love the app for how long i have been...</td>\n",
       "      <td>really love long using say difficulty also req...</td>\n",
       "      <td>(really, love, long, using, say, difficulty, a...</td>\n",
       "    </tr>\n",
       "    <tr>\n",
       "      <th>6</th>\n",
       "      <td>good</td>\n",
       "      <td>My Snapchat, along with many others, has sudde...</td>\n",
       "      <td>along many others suddenly started malfunction...</td>\n",
       "      <td>(along, many, others, suddenly, started, malfu...</td>\n",
       "    </tr>\n",
       "    <tr>\n",
       "      <th>10</th>\n",
       "      <td>good</td>\n",
       "      <td>So I recently just got the current update of S...</td>\n",
       "      <td>recently got current update well many know nec...</td>\n",
       "      <td>(recently, got, current, update, well, many, k...</td>\n",
       "    </tr>\n",
       "    <tr>\n",
       "      <th>11</th>\n",
       "      <td>good</td>\n",
       "      <td>I can say confidently that me and all of my fr...</td>\n",
       "      <td>say confidently friend spend time brought many...</td>\n",
       "      <td>(say, confidently, friend, spend, time, brough...</td>\n",
       "    </tr>\n",
       "    <tr>\n",
       "      <th>...</th>\n",
       "      <td>...</td>\n",
       "      <td>...</td>\n",
       "      <td>...</td>\n",
       "      <td>...</td>\n",
       "    </tr>\n",
       "    <tr>\n",
       "      <th>9551</th>\n",
       "      <td>good</td>\n",
       "      <td>I love snapchat so much. The update where the ...</td>\n",
       "      <td>love much update chat option way people story ...</td>\n",
       "      <td>(love, much, update, chat, option, way, people...</td>\n",
       "    </tr>\n",
       "    <tr>\n",
       "      <th>9552</th>\n",
       "      <td>good</td>\n",
       "      <td>Right now, other than a couple bugs here and t...</td>\n",
       "      <td>right couple bug good part would love got chan...</td>\n",
       "      <td>(right, couple, bug, good, part, would, love, ...</td>\n",
       "    </tr>\n",
       "    <tr>\n",
       "      <th>9553</th>\n",
       "      <td>good</td>\n",
       "      <td>Like this app is great and all but the stories...</td>\n",
       "      <td>like great story friend post show already seen...</td>\n",
       "      <td>(like, great, story, friend, post, show, alrea...</td>\n",
       "    </tr>\n",
       "    <tr>\n",
       "      <th>9557</th>\n",
       "      <td>good</td>\n",
       "      <td>Every time I upload a photo or video to my sto...</td>\n",
       "      <td>every time upload photo video story upload lat...</td>\n",
       "      <td>(every, time, upload, photo, video, story, upl...</td>\n",
       "    </tr>\n",
       "    <tr>\n",
       "      <th>9558</th>\n",
       "      <td>good</td>\n",
       "      <td>Love this app, but since he update I can’t upl...</td>\n",
       "      <td>love since update upload snap story get notifi...</td>\n",
       "      <td>(love, since, update, upload, snap, story, get...</td>\n",
       "    </tr>\n",
       "  </tbody>\n",
       "</table>\n",
       "<p>4278 rows × 4 columns</p>\n",
       "</div>"
      ],
      "text/plain": [
       "     sentiment                                             review  \\\n",
       "0         good  For the most part I quite enjoy Snapchat it’s ...   \n",
       "3         good  I really love the app for how long i have been...   \n",
       "6         good  My Snapchat, along with many others, has sudde...   \n",
       "10        good  So I recently just got the current update of S...   \n",
       "11        good  I can say confidently that me and all of my fr...   \n",
       "...        ...                                                ...   \n",
       "9551      good  I love snapchat so much. The update where the ...   \n",
       "9552      good  Right now, other than a couple bugs here and t...   \n",
       "9553      good  Like this app is great and all but the stories...   \n",
       "9557      good  Every time I upload a photo or video to my sto...   \n",
       "9558      good  Love this app, but since he update I can’t upl...   \n",
       "\n",
       "                                                  lemma  \\\n",
       "0     part quite enjoy probably used phone really co...   \n",
       "3     really love long using say difficulty also req...   \n",
       "6     along many others suddenly started malfunction...   \n",
       "10    recently got current update well many know nec...   \n",
       "11    say confidently friend spend time brought many...   \n",
       "...                                                 ...   \n",
       "9551  love much update chat option way people story ...   \n",
       "9552  right couple bug good part would love got chan...   \n",
       "9553  like great story friend post show already seen...   \n",
       "9557  every time upload photo video story upload lat...   \n",
       "9558  love since update upload snap story get notifi...   \n",
       "\n",
       "                                              spacy_doc  \n",
       "0     (part, quite, enjoy, probably, used, phone, re...  \n",
       "3     (really, love, long, using, say, difficulty, a...  \n",
       "6     (along, many, others, suddenly, started, malfu...  \n",
       "10    (recently, got, current, update, well, many, k...  \n",
       "11    (say, confidently, friend, spend, time, brough...  \n",
       "...                                                 ...  \n",
       "9551  (love, much, update, chat, option, way, people...  \n",
       "9552  (right, couple, bug, good, part, would, love, ...  \n",
       "9553  (like, great, story, friend, post, show, alrea...  \n",
       "9557  (every, time, upload, photo, video, story, upl...  \n",
       "9558  (love, since, update, upload, snap, story, get...  \n",
       "\n",
       "[4278 rows x 4 columns]"
      ]
     },
     "execution_count": 167,
     "metadata": {},
     "output_type": "execute_result"
    }
   ],
   "source": [
    "positive_reviews"
   ]
  },
  {
   "cell_type": "code",
   "execution_count": 168,
   "id": "529f8519",
   "metadata": {},
   "outputs": [],
   "source": [
    "pos_adj = [token.text.lower() for doc in positive_reviews.spacy_doc for token in doc if token.pos_=='ADJ']\n",
    "neg_adj = [token.text.lower() for doc in negative_reviews.spacy_doc for token in doc if token.pos_=='ADJ']\n",
    "\n",
    "pos_noun = [token.text.lower() for doc in positive_reviews.spacy_doc for token in doc if token.pos_=='NOUN']\n",
    "neg_noun = [token.text.lower() for doc in negative_reviews.spacy_doc for token in doc if token.pos_=='NOUN']"
   ]
  },
  {
   "cell_type": "code",
   "execution_count": 169,
   "id": "7d96c74f",
   "metadata": {},
   "outputs": [
    {
     "data": {
      "text/plain": [
       "[('new', 914),\n",
       " ('great', 882),\n",
       " ('good', 576),\n",
       " ('able', 569),\n",
       " ('many', 519),\n",
       " ('dark', 497),\n",
       " ('open', 461),\n",
       " ('annoying', 365),\n",
       " ('amazing', 316),\n",
       " ('black', 285)]"
      ]
     },
     "execution_count": 169,
     "metadata": {},
     "output_type": "execute_result"
    }
   ],
   "source": [
    "Counter(pos_adj).most_common(10)"
   ]
  },
  {
   "cell_type": "code",
   "execution_count": 170,
   "id": "2510148e",
   "metadata": {},
   "outputs": [
    {
     "data": {
      "text/plain": [
       "[('new', 1190),\n",
       " ('many', 650),\n",
       " ('open', 539),\n",
       " ('able', 416),\n",
       " ('annoying', 334),\n",
       " ('black', 324),\n",
       " ('good', 321),\n",
       " ('old', 320),\n",
       " ('last', 248),\n",
       " ('delete', 240)]"
      ]
     },
     "execution_count": 170,
     "metadata": {},
     "output_type": "execute_result"
    }
   ],
   "source": [
    "Counter(neg_adj).most_common(10)"
   ]
  },
  {
   "cell_type": "code",
   "execution_count": 171,
   "id": "d52f7181",
   "metadata": {},
   "outputs": [
    {
     "name": "stdout",
     "output_type": "stream",
     "text": [
      "Positive Adjective:  [('new', 914), ('great', 882), ('good', 576), ('able', 569), ('many', 519)]\n",
      "Negative Adjective:  [('new', 1190), ('many', 650), ('open', 539), ('able', 416), ('annoying', 334)]\n",
      "Positive Noun:  [('friend', 1873), ('love', 1578), ('story', 1426), ('time', 1293), ('update', 1015)]\n",
      "Negative Noun:  [('account', 2167), ('time', 1560), ('story', 1369), ('update', 1332), ('friend', 1197)]\n"
     ]
    }
   ],
   "source": [
    "print('Positive Adjective: ',Counter(pos_adj).most_common(5))\n",
    "print('Negative Adjective: ',Counter(neg_adj).most_common(5))\n",
    "print('Positive Noun: ',Counter(pos_noun).most_common(5))\n",
    "print('Negative Noun: ',Counter(neg_noun).most_common(5))"
   ]
  },
  {
   "cell_type": "markdown",
   "id": "078bbaf1",
   "metadata": {},
   "source": [
    "# Prepare data for modeling\n"
   ]
  },
  {
   "cell_type": "code",
   "execution_count": 172,
   "id": "45a85528",
   "metadata": {},
   "outputs": [],
   "source": [
    "# Split the data into X and y data sets\n",
    "X = data.review\n",
    "y = data.sentiment"
   ]
  },
  {
   "cell_type": "code",
   "execution_count": 173,
   "id": "36c9a3df",
   "metadata": {},
   "outputs": [],
   "source": [
    "# Split the data into training and test sets\n",
    "from sklearn.model_selection import train_test_split\n",
    "X_train, X_test, y_train, y_test = train_test_split(X, y, test_size=0.3, random_state=42)\n"
   ]
  },
  {
   "cell_type": "code",
   "execution_count": 174,
   "id": "ecef4153",
   "metadata": {},
   "outputs": [
    {
     "data": {
      "text/html": [
       "<div>\n",
       "<style scoped>\n",
       "    .dataframe tbody tr th:only-of-type {\n",
       "        vertical-align: middle;\n",
       "    }\n",
       "\n",
       "    .dataframe tbody tr th {\n",
       "        vertical-align: top;\n",
       "    }\n",
       "\n",
       "    .dataframe thead th {\n",
       "        text-align: right;\n",
       "    }\n",
       "</style>\n",
       "<table border=\"1\" class=\"dataframe\">\n",
       "  <thead>\n",
       "    <tr style=\"text-align: right;\">\n",
       "      <th></th>\n",
       "      <th>00</th>\n",
       "      <th>000</th>\n",
       "      <th>006</th>\n",
       "      <th>00am</th>\n",
       "      <th>00pm</th>\n",
       "      <th>062</th>\n",
       "      <th>07</th>\n",
       "      <th>10</th>\n",
       "      <th>100</th>\n",
       "      <th>1000</th>\n",
       "      <th>...</th>\n",
       "      <th>zstevens38</th>\n",
       "      <th>ᗒᗩᗕ</th>\n",
       "      <th>ꫀꪝꪝꪝꫛ</th>\n",
       "      <th>𐂅𓅪</th>\n",
       "      <th>𓃦ˁ</th>\n",
       "      <th>𝒄𝒐𝒏𝒄𝒆𝒓𝒏𝒆𝒅</th>\n",
       "      <th>𝒖𝒔𝒆𝒓</th>\n",
       "      <th>𝒗𝒆𝒓𝒚</th>\n",
       "      <th>𝘤𝘢𝘺𝘭𝘢𝘢𝘢𝘢</th>\n",
       "      <th>𝘭𝘰𝘷𝘦</th>\n",
       "    </tr>\n",
       "  </thead>\n",
       "  <tbody>\n",
       "    <tr>\n",
       "      <th>0</th>\n",
       "      <td>0</td>\n",
       "      <td>0</td>\n",
       "      <td>0</td>\n",
       "      <td>0</td>\n",
       "      <td>0</td>\n",
       "      <td>0</td>\n",
       "      <td>0</td>\n",
       "      <td>0</td>\n",
       "      <td>0</td>\n",
       "      <td>0</td>\n",
       "      <td>...</td>\n",
       "      <td>0</td>\n",
       "      <td>0</td>\n",
       "      <td>0</td>\n",
       "      <td>0</td>\n",
       "      <td>0</td>\n",
       "      <td>0</td>\n",
       "      <td>0</td>\n",
       "      <td>0</td>\n",
       "      <td>0</td>\n",
       "      <td>0</td>\n",
       "    </tr>\n",
       "    <tr>\n",
       "      <th>1</th>\n",
       "      <td>0</td>\n",
       "      <td>0</td>\n",
       "      <td>0</td>\n",
       "      <td>0</td>\n",
       "      <td>0</td>\n",
       "      <td>0</td>\n",
       "      <td>0</td>\n",
       "      <td>0</td>\n",
       "      <td>0</td>\n",
       "      <td>0</td>\n",
       "      <td>...</td>\n",
       "      <td>0</td>\n",
       "      <td>0</td>\n",
       "      <td>0</td>\n",
       "      <td>0</td>\n",
       "      <td>0</td>\n",
       "      <td>0</td>\n",
       "      <td>0</td>\n",
       "      <td>0</td>\n",
       "      <td>0</td>\n",
       "      <td>0</td>\n",
       "    </tr>\n",
       "    <tr>\n",
       "      <th>2</th>\n",
       "      <td>0</td>\n",
       "      <td>0</td>\n",
       "      <td>0</td>\n",
       "      <td>0</td>\n",
       "      <td>0</td>\n",
       "      <td>0</td>\n",
       "      <td>0</td>\n",
       "      <td>0</td>\n",
       "      <td>0</td>\n",
       "      <td>0</td>\n",
       "      <td>...</td>\n",
       "      <td>0</td>\n",
       "      <td>0</td>\n",
       "      <td>0</td>\n",
       "      <td>0</td>\n",
       "      <td>0</td>\n",
       "      <td>0</td>\n",
       "      <td>0</td>\n",
       "      <td>0</td>\n",
       "      <td>0</td>\n",
       "      <td>0</td>\n",
       "    </tr>\n",
       "    <tr>\n",
       "      <th>3</th>\n",
       "      <td>0</td>\n",
       "      <td>0</td>\n",
       "      <td>0</td>\n",
       "      <td>0</td>\n",
       "      <td>0</td>\n",
       "      <td>0</td>\n",
       "      <td>0</td>\n",
       "      <td>0</td>\n",
       "      <td>0</td>\n",
       "      <td>0</td>\n",
       "      <td>...</td>\n",
       "      <td>0</td>\n",
       "      <td>0</td>\n",
       "      <td>0</td>\n",
       "      <td>0</td>\n",
       "      <td>0</td>\n",
       "      <td>0</td>\n",
       "      <td>0</td>\n",
       "      <td>0</td>\n",
       "      <td>0</td>\n",
       "      <td>0</td>\n",
       "    </tr>\n",
       "    <tr>\n",
       "      <th>4</th>\n",
       "      <td>0</td>\n",
       "      <td>0</td>\n",
       "      <td>0</td>\n",
       "      <td>0</td>\n",
       "      <td>0</td>\n",
       "      <td>0</td>\n",
       "      <td>0</td>\n",
       "      <td>0</td>\n",
       "      <td>0</td>\n",
       "      <td>0</td>\n",
       "      <td>...</td>\n",
       "      <td>0</td>\n",
       "      <td>0</td>\n",
       "      <td>0</td>\n",
       "      <td>0</td>\n",
       "      <td>0</td>\n",
       "      <td>0</td>\n",
       "      <td>0</td>\n",
       "      <td>0</td>\n",
       "      <td>0</td>\n",
       "      <td>0</td>\n",
       "    </tr>\n",
       "  </tbody>\n",
       "</table>\n",
       "<p>5 rows × 8152 columns</p>\n",
       "</div>"
      ],
      "text/plain": [
       "   00  000  006  00am  00pm  062  07  10  100  1000  ...  zstevens38  ᗒᗩᗕ  \\\n",
       "0   0    0    0     0     0    0   0   0    0     0  ...           0    0   \n",
       "1   0    0    0     0     0    0   0   0    0     0  ...           0    0   \n",
       "2   0    0    0     0     0    0   0   0    0     0  ...           0    0   \n",
       "3   0    0    0     0     0    0   0   0    0     0  ...           0    0   \n",
       "4   0    0    0     0     0    0   0   0    0     0  ...           0    0   \n",
       "\n",
       "   ꫀꪝꪝꪝꫛ  𐂅𓅪  𓃦ˁ  𝒄𝒐𝒏𝒄𝒆𝒓𝒏𝒆𝒅  𝒖𝒔𝒆𝒓  𝒗𝒆𝒓𝒚  𝘤𝘢𝘺𝘭𝘢𝘢𝘢𝘢  𝘭𝘰𝘷𝘦  \n",
       "0      0   0   0          0     0     0         0     0  \n",
       "1      0   0   0          0     0     0         0     0  \n",
       "2      0   0   0          0     0     0         0     0  \n",
       "3      0   0   0          0     0     0         0     0  \n",
       "4      0   0   0          0     0     0         0     0  \n",
       "\n",
       "[5 rows x 8152 columns]"
      ]
     },
     "execution_count": 174,
     "metadata": {},
     "output_type": "execute_result"
    }
   ],
   "source": [
    "# The first document-term matrix has default Count Vectorizer values - counts of unigrams\n",
    "from sklearn.feature_extraction.text import CountVectorizer\n",
    "\n",
    "cv1 = CountVectorizer(stop_words='english')\n",
    "\n",
    "X_train_cv1 = cv1.fit_transform(X_train)\n",
    "X_test_cv1  = cv1.transform(X_test)\n",
    "\n",
    "pd.DataFrame(X_train_cv1.toarray(), columns=cv1.get_feature_names()).head()"
   ]
  },
  {
   "cell_type": "code",
   "execution_count": 175,
   "id": "04ac3a9a",
   "metadata": {},
   "outputs": [
    {
     "data": {
      "text/html": [
       "<div>\n",
       "<style scoped>\n",
       "    .dataframe tbody tr th:only-of-type {\n",
       "        vertical-align: middle;\n",
       "    }\n",
       "\n",
       "    .dataframe tbody tr th {\n",
       "        vertical-align: top;\n",
       "    }\n",
       "\n",
       "    .dataframe thead th {\n",
       "        text-align: right;\n",
       "    }\n",
       "</style>\n",
       "<table border=\"1\" class=\"dataframe\">\n",
       "  <thead>\n",
       "    <tr style=\"text-align: right;\">\n",
       "      <th></th>\n",
       "      <th>00</th>\n",
       "      <th>00 does</th>\n",
       "      <th>00 morning</th>\n",
       "      <th>00 night</th>\n",
       "      <th>00 pm</th>\n",
       "      <th>000</th>\n",
       "      <th>000 ads</th>\n",
       "      <th>000 day</th>\n",
       "      <th>000 days</th>\n",
       "      <th>000 doesn</th>\n",
       "      <th>...</th>\n",
       "      <th>𓃦ˁ</th>\n",
       "      <th>𓃦ˁ ꫀꪝꪝꪝꫛ</th>\n",
       "      <th>𝒄𝒐𝒏𝒄𝒆𝒓𝒏𝒆𝒅</th>\n",
       "      <th>𝒄𝒐𝒏𝒄𝒆𝒓𝒏𝒆𝒅 𝒖𝒔𝒆𝒓</th>\n",
       "      <th>𝒖𝒔𝒆𝒓</th>\n",
       "      <th>𝒗𝒆𝒓𝒚</th>\n",
       "      <th>𝒗𝒆𝒓𝒚 𝒄𝒐𝒏𝒄𝒆𝒓𝒏𝒆𝒅</th>\n",
       "      <th>𝘤𝘢𝘺𝘭𝘢𝘢𝘢𝘢</th>\n",
       "      <th>𝘭𝘰𝘷𝘦</th>\n",
       "      <th>𝘭𝘰𝘷𝘦 𝘤𝘢𝘺𝘭𝘢𝘢𝘢𝘢</th>\n",
       "    </tr>\n",
       "  </thead>\n",
       "  <tbody>\n",
       "    <tr>\n",
       "      <th>0</th>\n",
       "      <td>0</td>\n",
       "      <td>0</td>\n",
       "      <td>0</td>\n",
       "      <td>0</td>\n",
       "      <td>0</td>\n",
       "      <td>0</td>\n",
       "      <td>0</td>\n",
       "      <td>0</td>\n",
       "      <td>0</td>\n",
       "      <td>0</td>\n",
       "      <td>...</td>\n",
       "      <td>0</td>\n",
       "      <td>0</td>\n",
       "      <td>0</td>\n",
       "      <td>0</td>\n",
       "      <td>0</td>\n",
       "      <td>0</td>\n",
       "      <td>0</td>\n",
       "      <td>0</td>\n",
       "      <td>0</td>\n",
       "      <td>0</td>\n",
       "    </tr>\n",
       "    <tr>\n",
       "      <th>1</th>\n",
       "      <td>0</td>\n",
       "      <td>0</td>\n",
       "      <td>0</td>\n",
       "      <td>0</td>\n",
       "      <td>0</td>\n",
       "      <td>0</td>\n",
       "      <td>0</td>\n",
       "      <td>0</td>\n",
       "      <td>0</td>\n",
       "      <td>0</td>\n",
       "      <td>...</td>\n",
       "      <td>0</td>\n",
       "      <td>0</td>\n",
       "      <td>0</td>\n",
       "      <td>0</td>\n",
       "      <td>0</td>\n",
       "      <td>0</td>\n",
       "      <td>0</td>\n",
       "      <td>0</td>\n",
       "      <td>0</td>\n",
       "      <td>0</td>\n",
       "    </tr>\n",
       "    <tr>\n",
       "      <th>2</th>\n",
       "      <td>0</td>\n",
       "      <td>0</td>\n",
       "      <td>0</td>\n",
       "      <td>0</td>\n",
       "      <td>0</td>\n",
       "      <td>0</td>\n",
       "      <td>0</td>\n",
       "      <td>0</td>\n",
       "      <td>0</td>\n",
       "      <td>0</td>\n",
       "      <td>...</td>\n",
       "      <td>0</td>\n",
       "      <td>0</td>\n",
       "      <td>0</td>\n",
       "      <td>0</td>\n",
       "      <td>0</td>\n",
       "      <td>0</td>\n",
       "      <td>0</td>\n",
       "      <td>0</td>\n",
       "      <td>0</td>\n",
       "      <td>0</td>\n",
       "    </tr>\n",
       "    <tr>\n",
       "      <th>3</th>\n",
       "      <td>0</td>\n",
       "      <td>0</td>\n",
       "      <td>0</td>\n",
       "      <td>0</td>\n",
       "      <td>0</td>\n",
       "      <td>0</td>\n",
       "      <td>0</td>\n",
       "      <td>0</td>\n",
       "      <td>0</td>\n",
       "      <td>0</td>\n",
       "      <td>...</td>\n",
       "      <td>0</td>\n",
       "      <td>0</td>\n",
       "      <td>0</td>\n",
       "      <td>0</td>\n",
       "      <td>0</td>\n",
       "      <td>0</td>\n",
       "      <td>0</td>\n",
       "      <td>0</td>\n",
       "      <td>0</td>\n",
       "      <td>0</td>\n",
       "    </tr>\n",
       "    <tr>\n",
       "      <th>4</th>\n",
       "      <td>0</td>\n",
       "      <td>0</td>\n",
       "      <td>0</td>\n",
       "      <td>0</td>\n",
       "      <td>0</td>\n",
       "      <td>0</td>\n",
       "      <td>0</td>\n",
       "      <td>0</td>\n",
       "      <td>0</td>\n",
       "      <td>0</td>\n",
       "      <td>...</td>\n",
       "      <td>0</td>\n",
       "      <td>0</td>\n",
       "      <td>0</td>\n",
       "      <td>0</td>\n",
       "      <td>0</td>\n",
       "      <td>0</td>\n",
       "      <td>0</td>\n",
       "      <td>0</td>\n",
       "      <td>0</td>\n",
       "      <td>0</td>\n",
       "    </tr>\n",
       "  </tbody>\n",
       "</table>\n",
       "<p>5 rows × 110787 columns</p>\n",
       "</div>"
      ],
      "text/plain": [
       "   00  00 does  00 morning  00 night  00 pm  000  000 ads  000 day  000 days  \\\n",
       "0   0        0           0         0      0    0        0        0         0   \n",
       "1   0        0           0         0      0    0        0        0         0   \n",
       "2   0        0           0         0      0    0        0        0         0   \n",
       "3   0        0           0         0      0    0        0        0         0   \n",
       "4   0        0           0         0      0    0        0        0         0   \n",
       "\n",
       "   000 doesn  ...  𓃦ˁ  𓃦ˁ ꫀꪝꪝꪝꫛ  𝒄𝒐𝒏𝒄𝒆𝒓𝒏𝒆𝒅  𝒄𝒐𝒏𝒄𝒆𝒓𝒏𝒆𝒅 𝒖𝒔𝒆𝒓  𝒖𝒔𝒆𝒓  𝒗𝒆𝒓𝒚  \\\n",
       "0          0  ...   0         0          0               0     0     0   \n",
       "1          0  ...   0         0          0               0     0     0   \n",
       "2          0  ...   0         0          0               0     0     0   \n",
       "3          0  ...   0         0          0               0     0     0   \n",
       "4          0  ...   0         0          0               0     0     0   \n",
       "\n",
       "   𝒗𝒆𝒓𝒚 𝒄𝒐𝒏𝒄𝒆𝒓𝒏𝒆𝒅  𝘤𝘢𝘺𝘭𝘢𝘢𝘢𝘢  𝘭𝘰𝘷𝘦  𝘭𝘰𝘷𝘦 𝘤𝘢𝘺𝘭𝘢𝘢𝘢𝘢  \n",
       "0               0         0     0              0  \n",
       "1               0         0     0              0  \n",
       "2               0         0     0              0  \n",
       "3               0         0     0              0  \n",
       "4               0         0     0              0  \n",
       "\n",
       "[5 rows x 110787 columns]"
      ]
     },
     "execution_count": 175,
     "metadata": {},
     "output_type": "execute_result"
    }
   ],
   "source": [
    "# The second document-term matrix has both unigrams and bigrams, and indicators instead of counts\n",
    "cv2 = CountVectorizer(ngram_range=(1,2), binary=True, stop_words='english')\n",
    "\n",
    "X_train_cv2 = cv2.fit_transform(X_train)\n",
    "X_test_cv2  = cv2.transform(X_test)\n",
    "\n",
    "pd.DataFrame(X_train_cv2.toarray(), columns=cv2.get_feature_names()).head()"
   ]
  },
  {
   "cell_type": "markdown",
   "id": "aa4ca39c",
   "metadata": {},
   "source": [
    "# Try classifying using Logistic Regression"
   ]
  },
  {
   "cell_type": "code",
   "execution_count": 176,
   "id": "4d220c5e",
   "metadata": {},
   "outputs": [],
   "source": [
    "# Create a function to calculate the error metrics, since we'll be doing this several times\n",
    "from sklearn.metrics import confusion_matrix\n",
    "import matplotlib.pyplot as plt\n",
    "import seaborn as sns\n",
    "%matplotlib inline\n",
    "\n",
    "def conf_matrix(actual, predicted):\n",
    "    cm = confusion_matrix(actual, predicted)\n",
    "    sns.heatmap(cm, xticklabels=['predicted_negative', 'predicted_positive'], \n",
    "                yticklabels=['actual_negative', 'actual_positive'], annot=True,\n",
    "                fmt='d', annot_kws={'fontsize':20}, cmap=\"YlGnBu\");\n",
    "\n",
    "    true_neg, false_pos = cm[0]\n",
    "    false_neg, true_pos = cm[1]\n",
    "\n",
    "    accuracy = round((true_pos + true_neg) / (true_pos + true_neg + false_pos + false_neg),3)\n",
    "    precision = round((true_pos) / (true_pos + false_pos),3)\n",
    "    recall = round((true_pos) / (true_pos + false_neg),3)\n",
    "    f1 = round(2 * (precision * recall) / (precision + recall),3)\n",
    "\n",
    "    cm_results = [accuracy, precision, recall, f1]\n",
    "    return cm_results"
   ]
  },
  {
   "cell_type": "code",
   "execution_count": 177,
   "id": "c5f706c0",
   "metadata": {},
   "outputs": [],
   "source": [
    "# Create a logistic regression model to use\n",
    "from sklearn.linear_model import LogisticRegression\n",
    "lr = LogisticRegression()"
   ]
  },
  {
   "cell_type": "code",
   "execution_count": 178,
   "id": "66bc38b4",
   "metadata": {},
   "outputs": [],
   "source": [
    "\n",
    "   # Train the first model\n",
    "lr.fit(X_train_cv1, y_train)\n",
    "y_pred_cv1 = lr.predict(X_test_cv1)"
   ]
  },
  {
   "cell_type": "code",
   "execution_count": 179,
   "id": "040be11d",
   "metadata": {},
   "outputs": [],
   "source": [
    "# Train the second model\n",
    "lr.fit(X_train_cv2, y_train)\n",
    "y_pred_cv2 = lr.predict(X_test_cv2)"
   ]
  },
  {
   "cell_type": "code",
   "execution_count": 180,
   "id": "623c0427",
   "metadata": {
    "scrolled": true
   },
   "outputs": [
    {
     "data": {
      "image/png": "[encoded data removed]",
      "text/plain": [
       "<Figure size 432x288 with 2 Axes>"
      ]
     },
     "metadata": {
      "needs_background": "light"
     },
     "output_type": "display_data"
    }
   ],
   "source": [
    "# The heat map for the first logistic regression model\n",
    "cm1 = conf_matrix(y_test, y_pred_cv1)"
   ]
  },
  {
   "cell_type": "code",
   "execution_count": 181,
   "id": "3bd74d3b",
   "metadata": {},
   "outputs": [
    {
     "data": {
      "image/png": "[encoded data removed]",
      "text/plain": [
       "<Figure size 432x288 with 2 Axes>"
      ]
     },
     "metadata": {
      "needs_background": "light"
     },
     "output_type": "display_data"
    }
   ],
   "source": [
    "# The heat map for the second logistic regression model\n",
    "cm2 = conf_matrix(y_test, y_pred_cv2)"
   ]
  },
  {
   "cell_type": "code",
   "execution_count": 182,
   "id": "521560b6",
   "metadata": {},
   "outputs": [
    {
     "data": {
      "text/html": [
       "<div>\n",
       "<style scoped>\n",
       "    .dataframe tbody tr th:only-of-type {\n",
       "        vertical-align: middle;\n",
       "    }\n",
       "\n",
       "    .dataframe tbody tr th {\n",
       "        vertical-align: top;\n",
       "    }\n",
       "\n",
       "    .dataframe thead th {\n",
       "        text-align: right;\n",
       "    }\n",
       "</style>\n",
       "<table border=\"1\" class=\"dataframe\">\n",
       "  <thead>\n",
       "    <tr style=\"text-align: right;\">\n",
       "      <th></th>\n",
       "      <th>LogReg1</th>\n",
       "      <th>LogReg2</th>\n",
       "    </tr>\n",
       "  </thead>\n",
       "  <tbody>\n",
       "    <tr>\n",
       "      <th>Accuracy</th>\n",
       "      <td>0.820</td>\n",
       "      <td>0.828</td>\n",
       "    </tr>\n",
       "    <tr>\n",
       "      <th>Precision</th>\n",
       "      <td>0.837</td>\n",
       "      <td>0.835</td>\n",
       "    </tr>\n",
       "    <tr>\n",
       "      <th>Recall</th>\n",
       "      <td>0.860</td>\n",
       "      <td>0.880</td>\n",
       "    </tr>\n",
       "    <tr>\n",
       "      <th>F1 Score</th>\n",
       "      <td>0.848</td>\n",
       "      <td>0.857</td>\n",
       "    </tr>\n",
       "  </tbody>\n",
       "</table>\n",
       "</div>"
      ],
      "text/plain": [
       "           LogReg1  LogReg2\n",
       "Accuracy     0.820    0.828\n",
       "Precision    0.837    0.835\n",
       "Recall       0.860    0.880\n",
       "F1 Score     0.848    0.857"
      ]
     },
     "execution_count": 182,
     "metadata": {},
     "output_type": "execute_result"
    }
   ],
   "source": [
    "# Compile all of the error metrics into a dataframe for comparison\n",
    "results = pd.DataFrame(list(zip(cm1, cm2)))\n",
    "results = results.set_index([['Accuracy', 'Precision', 'Recall', 'F1 Score']])\n",
    "results.columns = ['LogReg1', 'LogReg2']\n",
    "results"
   ]
  },
  {
   "cell_type": "markdown",
   "id": "bcac79cd",
   "metadata": {},
   "source": [
    "### The first Naive Bayes model outperforms both Logistic Regression models.\n",
    "\n"
   ]
  },
  {
   "cell_type": "markdown",
   "id": "327d5251",
   "metadata": {},
   "source": [
    "# Try classifying using Naive Bayes\n"
   ]
  },
  {
   "cell_type": "code",
   "execution_count": 183,
   "id": "6dd74171",
   "metadata": {},
   "outputs": [],
   "source": [
    "# Fit the first Naive Bayes model\n",
    "from sklearn.naive_bayes import MultinomialNB\n",
    "\n",
    "mnb = MultinomialNB()\n",
    "mnb.fit(X_train_cv1, y_train)\n",
    "\n",
    "y_pred_cv1_nb = mnb.predict(X_test_cv1)"
   ]
  },
  {
   "cell_type": "code",
   "execution_count": 184,
   "id": "82c87174",
   "metadata": {},
   "outputs": [],
   "source": [
    "# Fit the second Naive Bayes model\n",
    "from sklearn.naive_bayes import BernoulliNB\n",
    "\n",
    "bnb = BernoulliNB()\n",
    "bnb.fit(X_train_cv2, y_train)\n",
    "\n",
    "y_pred_cv2_nb = bnb.predict(X_test_cv2)"
   ]
  },
  {
   "cell_type": "code",
   "execution_count": 185,
   "id": "d08ecd24",
   "metadata": {},
   "outputs": [
    {
     "data": {
      "image/png": "[encoded data removed]",
      "text/plain": [
       "<Figure size 432x288 with 2 Axes>"
      ]
     },
     "metadata": {
      "needs_background": "light"
     },
     "output_type": "display_data"
    }
   ],
   "source": [
    "# Here's the heat map for the first Naive Bayes model\n",
    "cm3 = conf_matrix(y_test, y_pred_cv1_nb)"
   ]
  },
  {
   "cell_type": "code",
   "execution_count": 186,
   "id": "7a3c6e5f",
   "metadata": {},
   "outputs": [
    {
     "data": {
      "image/png": "[encoded data removed]",
      "text/plain": [
       "<Figure size 432x288 with 2 Axes>"
      ]
     },
     "metadata": {
      "needs_background": "light"
     },
     "output_type": "display_data"
    }
   ],
   "source": [
    "# Here's the heat map for the second Naive Bayes model\n",
    "cm4 = conf_matrix(y_test, y_pred_cv2_nb)"
   ]
  },
  {
   "cell_type": "code",
   "execution_count": 187,
   "id": "f5fee9a3",
   "metadata": {},
   "outputs": [
    {
     "data": {
      "text/html": [
       "<div>\n",
       "<style scoped>\n",
       "    .dataframe tbody tr th:only-of-type {\n",
       "        vertical-align: middle;\n",
       "    }\n",
       "\n",
       "    .dataframe tbody tr th {\n",
       "        vertical-align: top;\n",
       "    }\n",
       "\n",
       "    .dataframe thead th {\n",
       "        text-align: right;\n",
       "    }\n",
       "</style>\n",
       "<table border=\"1\" class=\"dataframe\">\n",
       "  <thead>\n",
       "    <tr style=\"text-align: right;\">\n",
       "      <th></th>\n",
       "      <th>LogReg1</th>\n",
       "      <th>LogReg2</th>\n",
       "      <th>NB1</th>\n",
       "      <th>NB2</th>\n",
       "    </tr>\n",
       "  </thead>\n",
       "  <tbody>\n",
       "    <tr>\n",
       "      <th>Accuracy</th>\n",
       "      <td>0.820</td>\n",
       "      <td>0.828</td>\n",
       "      <td>0.768</td>\n",
       "      <td>0.693</td>\n",
       "    </tr>\n",
       "    <tr>\n",
       "      <th>Precision</th>\n",
       "      <td>0.837</td>\n",
       "      <td>0.835</td>\n",
       "      <td>0.809</td>\n",
       "      <td>0.658</td>\n",
       "    </tr>\n",
       "    <tr>\n",
       "      <th>Recall</th>\n",
       "      <td>0.860</td>\n",
       "      <td>0.880</td>\n",
       "      <td>0.789</td>\n",
       "      <td>0.990</td>\n",
       "    </tr>\n",
       "    <tr>\n",
       "      <th>F1 Score</th>\n",
       "      <td>0.848</td>\n",
       "      <td>0.857</td>\n",
       "      <td>0.799</td>\n",
       "      <td>0.791</td>\n",
       "    </tr>\n",
       "  </tbody>\n",
       "</table>\n",
       "</div>"
      ],
      "text/plain": [
       "           LogReg1  LogReg2    NB1    NB2\n",
       "Accuracy     0.820    0.828  0.768  0.693\n",
       "Precision    0.837    0.835  0.809  0.658\n",
       "Recall       0.860    0.880  0.789  0.990\n",
       "F1 Score     0.848    0.857  0.799  0.791"
      ]
     },
     "execution_count": 187,
     "metadata": {},
     "output_type": "execute_result"
    }
   ],
   "source": [
    "# Compile all of the error metrics into a dataframe for comparison\n",
    "results_nb = pd.DataFrame(list(zip(cm3, cm4)))\n",
    "results_nb = results_nb.set_index([['Accuracy', 'Precision', 'Recall', 'F1 Score']])\n",
    "results_nb.columns = ['NB1', 'NB2']\n",
    "results_nb\n",
    "\n",
    "results = pd.concat([results, results_nb], axis=1)\n",
    "results"
   ]
  },
  {
   "cell_type": "markdown",
   "id": "59b4104a",
   "metadata": {},
   "source": [
    "# Try using TF-IDF instead of Count Vectorizer"
   ]
  },
  {
   "cell_type": "code",
   "execution_count": 188,
   "id": "65b47ef7",
   "metadata": {},
   "outputs": [],
   "source": [
    "# Create TF-IDF versions of the Count Vectorizers created earlier in the exercise\n",
    "from sklearn.feature_extraction.text import TfidfVectorizer\n",
    "\n",
    "tfidf1 = TfidfVectorizer(stop_words='english')\n",
    "X_train_tfidf1 = tfidf1.fit_transform(X_train)\n",
    "X_test_tfidf1  = tfidf1.transform(X_test)\n",
    "\n",
    "tfidf2 = TfidfVectorizer(ngram_range=(1,2), binary=True, stop_words='english')\n",
    "X_train_tfidf2 = tfidf2.fit_transform(X_train)\n",
    "X_test_tfidf2  = tfidf2.transform(X_test)"
   ]
  },
  {
   "cell_type": "code",
   "execution_count": 189,
   "id": "36b47d23",
   "metadata": {},
   "outputs": [
    {
     "data": {
      "image/png": "[encoded data removed]",
      "text/plain": [
       "<Figure size 432x288 with 2 Axes>"
      ]
     },
     "metadata": {
      "needs_background": "light"
     },
     "output_type": "display_data"
    }
   ],
   "source": [
    "# Fit the first logistic regression on the TF-IDF data\n",
    "lr.fit(X_train_tfidf1, y_train)\n",
    "y_pred_tfidf1_lr = lr.predict(X_test_tfidf1)\n",
    "cm5 = conf_matrix(y_test, y_pred_tfidf1_lr)"
   ]
  },
  {
   "cell_type": "code",
   "execution_count": 190,
   "id": "4c912a24",
   "metadata": {},
   "outputs": [
    {
     "data": {
      "image/png": "[encoded data removed]",
      "text/plain": [
       "<Figure size 432x288 with 2 Axes>"
      ]
     },
     "metadata": {
      "needs_background": "light"
     },
     "output_type": "display_data"
    }
   ],
   "source": [
    "# Fit the second logistic regression on the TF-IDF data\n",
    "lr.fit(X_train_tfidf2, y_train)\n",
    "y_pred_tfidf2_lr = lr.predict(X_test_tfidf2)\n",
    "cm6 = conf_matrix(y_test, y_pred_tfidf2_lr)"
   ]
  },
  {
   "cell_type": "code",
   "execution_count": 191,
   "id": "d42b851e",
   "metadata": {},
   "outputs": [
    {
     "data": {
      "image/png": "[encoded data removed]",
      "text/plain": [
       "<Figure size 432x288 with 2 Axes>"
      ]
     },
     "metadata": {
      "needs_background": "light"
     },
     "output_type": "display_data"
    }
   ],
   "source": [
    "# Fit the first Naive Bayes model on the TF-IDF data\n",
    "mnb.fit(X_train_tfidf1.toarray(), y_train)\n",
    "y_pred_tfidf1_nb = mnb.predict(X_test_tfidf1)\n",
    "cm7 = conf_matrix(y_test, y_pred_tfidf1_nb)"
   ]
  },
  {
   "cell_type": "code",
   "execution_count": 192,
   "id": "fd8c7217",
   "metadata": {},
   "outputs": [
    {
     "data": {
      "image/png": "[encoded data removed]",
      "text/plain": [
       "<Figure size 432x288 with 2 Axes>"
      ]
     },
     "metadata": {
      "needs_background": "light"
     },
     "output_type": "display_data"
    }
   ],
   "source": [
    "# Fit the second Naive Bayes model on the TF-IDF data\n",
    "bnb.fit(X_train_tfidf2.toarray(), y_train)\n",
    "y_pred_tfidf2_nb = bnb.predict(X_test_tfidf2)\n",
    "cm8 = conf_matrix(y_test, y_pred_tfidf2_nb)"
   ]
  },
  {
   "cell_type": "code",
   "execution_count": 193,
   "id": "09226a78",
   "metadata": {},
   "outputs": [
    {
     "data": {
      "text/html": [
       "<div>\n",
       "<style scoped>\n",
       "    .dataframe tbody tr th:only-of-type {\n",
       "        vertical-align: middle;\n",
       "    }\n",
       "\n",
       "    .dataframe tbody tr th {\n",
       "        vertical-align: top;\n",
       "    }\n",
       "\n",
       "    .dataframe thead th {\n",
       "        text-align: right;\n",
       "    }\n",
       "</style>\n",
       "<table border=\"1\" class=\"dataframe\">\n",
       "  <thead>\n",
       "    <tr style=\"text-align: right;\">\n",
       "      <th></th>\n",
       "      <th>LogReg1</th>\n",
       "      <th>LogReg2</th>\n",
       "      <th>NB1</th>\n",
       "      <th>NB2</th>\n",
       "      <th>LR1-TFIDF</th>\n",
       "      <th>LR2-TFIDF</th>\n",
       "      <th>NB1-TFIDF</th>\n",
       "      <th>NB2-TFIDF</th>\n",
       "    </tr>\n",
       "  </thead>\n",
       "  <tbody>\n",
       "    <tr>\n",
       "      <th>Accuracy</th>\n",
       "      <td>0.820</td>\n",
       "      <td>0.828</td>\n",
       "      <td>0.768</td>\n",
       "      <td>0.693</td>\n",
       "      <td>0.811</td>\n",
       "      <td>0.803</td>\n",
       "      <td>0.746</td>\n",
       "      <td>0.693</td>\n",
       "    </tr>\n",
       "    <tr>\n",
       "      <th>Precision</th>\n",
       "      <td>0.837</td>\n",
       "      <td>0.835</td>\n",
       "      <td>0.809</td>\n",
       "      <td>0.658</td>\n",
       "      <td>0.831</td>\n",
       "      <td>0.824</td>\n",
       "      <td>0.722</td>\n",
       "      <td>0.658</td>\n",
       "    </tr>\n",
       "    <tr>\n",
       "      <th>Recall</th>\n",
       "      <td>0.860</td>\n",
       "      <td>0.880</td>\n",
       "      <td>0.789</td>\n",
       "      <td>0.990</td>\n",
       "      <td>0.849</td>\n",
       "      <td>0.843</td>\n",
       "      <td>0.917</td>\n",
       "      <td>0.990</td>\n",
       "    </tr>\n",
       "    <tr>\n",
       "      <th>F1 Score</th>\n",
       "      <td>0.848</td>\n",
       "      <td>0.857</td>\n",
       "      <td>0.799</td>\n",
       "      <td>0.791</td>\n",
       "      <td>0.840</td>\n",
       "      <td>0.833</td>\n",
       "      <td>0.808</td>\n",
       "      <td>0.791</td>\n",
       "    </tr>\n",
       "  </tbody>\n",
       "</table>\n",
       "</div>"
      ],
      "text/plain": [
       "           LogReg1  LogReg2    NB1    NB2  LR1-TFIDF  LR2-TFIDF  NB1-TFIDF  \\\n",
       "Accuracy     0.820    0.828  0.768  0.693      0.811      0.803      0.746   \n",
       "Precision    0.837    0.835  0.809  0.658      0.831      0.824      0.722   \n",
       "Recall       0.860    0.880  0.789  0.990      0.849      0.843      0.917   \n",
       "F1 Score     0.848    0.857  0.799  0.791      0.840      0.833      0.808   \n",
       "\n",
       "           NB2-TFIDF  \n",
       "Accuracy       0.693  \n",
       "Precision      0.658  \n",
       "Recall         0.990  \n",
       "F1 Score       0.791  "
      ]
     },
     "execution_count": 193,
     "metadata": {},
     "output_type": "execute_result"
    }
   ],
   "source": [
    "# Compile all of the error metrics into a dataframe for comparison\n",
    "results_tf = pd.DataFrame(list(zip(cm5, cm6, cm7, cm8)))\n",
    "results_tf = results_tf.set_index([['Accuracy', 'Precision', 'Recall', 'F1 Score']])\n",
    "results_tf.columns = ['LR1-TFIDF', 'LR2-TFIDF', 'NB1-TFIDF', 'NB2-TFIDF']\n",
    "results_tf\n",
    "\n",
    "results = pd.concat([results, results_tf], axis=1)\n",
    "results"
   ]
  },
  {
   "cell_type": "markdown",
   "id": "1a41cfac",
   "metadata": {},
   "source": [
    "\n",
    "### Overall, the second Logistic Regression model (using n_bigram and counts) seems to best classify positive and negative reviews."
   ]
  },
  {
   "cell_type": "code",
   "execution_count": null,
   "id": "09b76683",
   "metadata": {},
   "outputs": [],
   "source": []
  }
 ],
 "metadata": {
  "kernelspec": {
   "display_name": "Python 3 (ipykernel)",
   "language": "python",
   "name": "python3"
  },
  "language_info": {
   "codemirror_mode": {
    "name": "ipython",
    "version": 3
   },
   "file_extension": ".py",
   "mimetype": "text/x-python",
   "name": "python",
   "nbconvert_exporter": "python",
   "pygments_lexer": "ipython3",
   "version": "3.8.12"
  }
 },
 "nbformat": 4,
 "nbformat_minor": 5
}
